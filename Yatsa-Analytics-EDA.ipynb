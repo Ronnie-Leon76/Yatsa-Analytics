{
 "cells": [
  {
   "attachments": {},
   "cell_type": "markdown",
   "metadata": {},
   "source": [
    "## Yatsa Data Analytics"
   ]
  },
  {
   "attachments": {},
   "cell_type": "markdown",
   "metadata": {},
   "source": [
    "Yatsa is company that helps you track and manage your assets better. \n",
    "This notebook is a quick look at the data that Yatsa collects from their user's assets and the trips the assets being tracked have made. The goal of the analytics is to provide insights from the data and answer the following business questions:\n",
    "- What is the average distance travelled by vehicles in a day, week or month?\n",
    "- What are the most common destination for vehicles and how frequent do they travel to  these destinations?\n",
    "\n",
    "### Extra\n",
    "- Any trends in driver behaviour for example speeding?\n",
    "- Any pattern or trends in the types of trips made by vehicles for example: do smaller vehicles travel through smaller distances.\n",
    "\n",
    "`trips.json` file is too large to be uploaded to github. It can be download from [here](https://drive.google.com/drive/folders/1cVddbKWqv8B9NF6B0ALS3Rv4vZAxEi1Z?usp=share_link)"
   ]
  },
  {
   "cell_type": "code",
   "execution_count": 1,
   "metadata": {},
   "outputs": [],
   "source": [
    "import pandas as pd\n",
    "assets = pd.read_json('Data/assets.json')"
   ]
  },
  {
   "cell_type": "code",
   "execution_count": 2,
   "metadata": {},
   "outputs": [
    {
     "data": {
      "text/html": [
       "<div>\n",
       "<style scoped>\n",
       "    .dataframe tbody tr th:only-of-type {\n",
       "        vertical-align: middle;\n",
       "    }\n",
       "\n",
       "    .dataframe tbody tr th {\n",
       "        vertical-align: top;\n",
       "    }\n",
       "\n",
       "    .dataframe thead th {\n",
       "        text-align: right;\n",
       "    }\n",
       "</style>\n",
       "<table border=\"1\" class=\"dataframe\">\n",
       "  <thead>\n",
       "    <tr style=\"text-align: right;\">\n",
       "      <th></th>\n",
       "      <th>id</th>\n",
       "      <th>make</th>\n",
       "      <th>model</th>\n",
       "      <th>year</th>\n",
       "    </tr>\n",
       "  </thead>\n",
       "  <tbody>\n",
       "    <tr>\n",
       "      <th>0</th>\n",
       "      <td>QRmYjfT</td>\n",
       "      <td>TOYOTA Ractis 1.0</td>\n",
       "      <td>Ractis 1.0</td>\n",
       "      <td>2006.0</td>\n",
       "    </tr>\n",
       "    <tr>\n",
       "      <th>1</th>\n",
       "      <td>DpXMzg3</td>\n",
       "      <td>Lexus CT 200h</td>\n",
       "      <td>CT 200h</td>\n",
       "      <td>NaN</td>\n",
       "    </tr>\n",
       "    <tr>\n",
       "      <th>2</th>\n",
       "      <td>4tQe9sV</td>\n",
       "      <td>Honda Odyssey</td>\n",
       "      <td>Odyssey</td>\n",
       "      <td>NaN</td>\n",
       "    </tr>\n",
       "    <tr>\n",
       "      <th>3</th>\n",
       "      <td>x2LJWsl</td>\n",
       "      <td>MITSUBISHI Lancer Cedia LA-CS2A</td>\n",
       "      <td>Lancer Cedia LA-CS2A</td>\n",
       "      <td>2005.0</td>\n",
       "    </tr>\n",
       "    <tr>\n",
       "      <th>4</th>\n",
       "      <td>eH0O4bf</td>\n",
       "      <td>Nissan</td>\n",
       "      <td>Note</td>\n",
       "      <td>2011.0</td>\n",
       "    </tr>\n",
       "  </tbody>\n",
       "</table>\n",
       "</div>"
      ],
      "text/plain": [
       "        id                             make                 model    year\n",
       "0  QRmYjfT                TOYOTA Ractis 1.0            Ractis 1.0  2006.0\n",
       "1  DpXMzg3                    Lexus CT 200h               CT 200h     NaN\n",
       "2  4tQe9sV                    Honda Odyssey               Odyssey     NaN\n",
       "3  x2LJWsl  MITSUBISHI Lancer Cedia LA-CS2A  Lancer Cedia LA-CS2A  2005.0\n",
       "4  eH0O4bf                           Nissan                  Note  2011.0"
      ]
     },
     "execution_count": 2,
     "metadata": {},
     "output_type": "execute_result"
    }
   ],
   "source": [
    "assets.head()"
   ]
  },
  {
   "cell_type": "code",
   "execution_count": 3,
   "metadata": {},
   "outputs": [],
   "source": [
    "import json"
   ]
  },
  {
   "cell_type": "code",
   "execution_count": 2,
   "metadata": {},
   "outputs": [],
   "source": [
    "with open('Data/trips.json') as f:\n",
    "    trips = json.load(f)"
   ]
  },
  {
   "cell_type": "code",
   "execution_count": 8,
   "metadata": {},
   "outputs": [
    {
     "name": "stdout",
     "output_type": "stream",
     "text": [
      "{'id': '35Ldjpf', 'created': '2022-03-14T17:31:51.003+00:00', 'asset_id': '0ROajub', 'origin': {'latitude': -1.043220043182373, 'longitude': 37.067928314208984, 'time_stamp': '2022-03-14T17:31:47+00:00', 'address': 'Thika Garissa Highway, Total, Thika, Kenya', 'odometer': None}, 'destination': {'latitude': -1.041213035583496, 'longitude': 37.09260177612305, 'time_stamp': '2022-03-14T17:54:07+00:00', 'address': 'Kenyatta Highway, Thika, Kiambu County, Kenya', 'odometer': None}, 'distance': 4321.65, 'points': [{'bearing': 0.0, 'location': {'latitude': -1.0429808391339757, 'longitude': 37.06797081001906}, 'original_index': 0, 'place_id': 'ChIJZdR1aZNOLxgRKyV34jTxzi8'}, {'bearing': -79.92785342956121, 'location': {'latitude': -1.0429532741480045, 'longitude': 37.06781559845453}, 'original_index': 1, 'place_id': 'ChIJZdR1aZNOLxgRKyV34jTxzi8'}, {'bearing': -79.92785060439225, 'location': {'latitude': -1.0429239, 'longitude': 37.067650199999996}, 'original_index': 0, 'place_id': 'ChIJZdR1aZNOLxgRKyV34jTxzi8'}, {'bearing': 0.0, 'location': {'latitude': -1.0429239, 'longitude': 37.067650199999996}, 'original_index': 0, 'place_id': 'ChIJ12sdZJNOLxgR_3F-GeUv2JE'}, {'bearing': -79.91433217028852, 'location': {'latitude': -1.0429137591558788, 'longitude': 37.06759317758298}, 'original_index': 2, 'place_id': 'ChIJ12sdZJNOLxgR_3F-GeUv2JE'}, {'bearing': -79.91433113390467, 'location': {'latitude': -1.0428154, 'longitude': 37.0670401}, 'original_index': 0, 'place_id': 'ChIJ12sdZJNOLxgR_3F-GeUv2JE'}, {'bearing': 0.0, 'location': {'latitude': -1.0428154, 'longitude': 37.0670401}, 'original_index': 0, 'place_id': 'ChIJAcTAX5NOLxgRsfXVeQzLiZ8'}, {'bearing': -165.11880462260416, 'location': {'latitude': -1.0428557838807793, 'longitude': 37.06702936709359}, 'original_index': 3, 'place_id': 'ChIJAcTAX5NOLxgRsfXVeQzLiZ8'}, {'bearing': -165.1188044288573, 'location': {'latitude': -1.04319562647603, 'longitude': 37.066939046422206}, 'original_index': 4, 'place_id': 'ChIJAcTAX5NOLxgRsfXVeQzLiZ8'}, {'bearing': -165.11880278357043, 'location': {'latitude': -1.0433147000000003, 'longitude': 37.0669074}, 'original_index': 0, 'place_id': 'ChIJAcTAX5NOLxgRsfXVeQzLiZ8'}, {'bearing': -168.9012248019318, 'location': {'latitude': -1.0433778999999999, 'longitude': 37.066894999999995}, 'original_index': 0, 'place_id': 'ChIJAcTAX5NOLxgRsfXVeQzLiZ8'}, {'bearing': 0.0, 'location': {'latitude': -1.0433778999999999, 'longitude': 37.066894999999995}, 'original_index': 0, 'place_id': 'ChIJAcTAX5NOLxgRVBH_kpjSZn4'}, {'bearing': -174.9212300118825, 'location': {'latitude': -1.0434093999999998, 'longitude': 37.0668922}, 'original_index': 0, 'place_id': 'ChIJAcTAX5NOLxgRVBH_kpjSZn4'}, {'bearing': 168.62859407634465, 'location': {'latitude': -1.0434267999999998, 'longitude': 37.066895699999996}, 'original_index': 0, 'place_id': 'ChIJAcTAX5NOLxgRVBH_kpjSZn4'}, {'bearing': 150.92065468576521, 'location': {'latitude': -1.0434437, 'longitude': 37.0669051}, 'original_index': 0, 'place_id': 'ChIJAcTAX5NOLxgRVBH_kpjSZn4'}, {'bearing': 143.13466325991243, 'location': {'latitude': -1.0434532999999997, 'longitude': 37.0669123}, 'original_index': 0, 'place_id': 'ChIJAcTAX5NOLxgRVBH_kpjSZn4'}, {'bearing': 130.64118486249538, 'location': {'latitude': -1.0434648, 'longitude': 37.0669257}, 'original_index': 0, 'place_id': 'ChIJAcTAX5NOLxgRVBH_kpjSZn4'}, {'bearing': 118.04863049374842, 'location': {'latitude': -1.0434819, 'longitude': 37.0669578}, 'original_index': 0, 'place_id': 'ChIJAcTAX5NOLxgRVBH_kpjSZn4'}, {'bearing': 0.0, 'location': {'latitude': -1.0434819, 'longitude': 37.0669578}, 'original_index': 0, 'place_id': 'ChIJfcrPXJNOLxgRL6tuIiZHM6k'}, {'bearing': 108.58587063453693, 'location': {'latitude': -1.0434974999999997, 'longitude': 37.0670042}, 'original_index': 0, 'place_id': 'ChIJfcrPXJNOLxgRL6tuIiZHM6k'}, {'bearing': 100.24832257729041, 'location': {'latitude': -1.0435069000000001, 'longitude': 37.0670562}, 'original_index': 0, 'place_id': 'ChIJfcrPXJNOLxgRL6tuIiZHM6k'}, {'bearing': 102.63751395060703, 'location': {'latitude': -1.0435566, 'longitude': 37.06727789999999}, 'original_index': 0, 'place_id': 'ChIJfcrPXJNOLxgRL6tuIiZHM6k'}, {'bearing': 100.17320589778679, 'location': {'latitude': -1.0435953000000002, 'longitude': 37.0674936}, 'original_index': 0, 'place_id': 'ChIJfcrPXJNOLxgRL6tuIiZHM6k'}, {'bearing': 101.1840770831131, 'location': {'latitude': -1.0436448, 'longitude': 37.067744000000005}, 'original_index': 0, 'place_id': 'ChIJfcrPXJNOLxgRL6tuIiZHM6k'}, {'bearing': 100.09207267258006, 'location': {'latitude': -1.0436581999999999, 'longitude': 37.06781929999999}, 'original_index': 0, 'place_id': 'ChIJfcrPXJNOLxgRL6tuIiZHM6k'}, {'bearing': 97.94168298199271, 'location': {'latitude': -1.0436641, 'longitude': 37.0678616}, 'original_index': 0, 'place_id': 'ChIJfcrPXJNOLxgRL6tuIiZHM6k'}, {'bearing': 81.5897132086252, 'location': {'latitude': -1.0436626398460713, 'longitude': 37.06787147751202}, 'original_index': 5, 'place_id': 'ChIJfcrPXJNOLxgRL6tuIiZHM6k'}, {'bearing': 81.58971301737948, 'location': {'latitude': -1.0436607000000002, 'longitude': 37.06788459999999}, 'original_index': 0, 'place_id': 'ChIJfcrPXJNOLxgRL6tuIiZHM6k'}, {'bearing': 66.0339829804681, 'location': {'latitude': -1.0436574999999997, 'longitude': 37.0678918}, 'original_index': 0, 'place_id': 'ChIJfcrPXJNOLxgRL6tuIiZHM6k'}, {'bearing': 53.24478707477725, 'location': {'latitude': -1.0436459999999999, 'longitude': 37.0679072}, 'original_index': 0, 'place_id': 'ChIJfcrPXJNOLxgRL6tuIiZHM6k'}, {'bearing': 40.931929108374646, 'location': {'latitude': -1.0436362000000001, 'longitude': 37.06791569999999}, 'original_index': 0, 'place_id': 'ChIJfcrPXJNOLxgRL6tuIiZHM6k'}, {'bearing': 25.236863317316352, 'location': {'latitude': -1.0436222000000002, 'longitude': 37.067922300000006}, 'original_index': 0, 'place_id': 'ChIJfcrPXJNOLxgRL6tuIiZHM6k'}, {'bearing': 15.57312223490408, 'location': {'latitude': -1.0435934999999998, 'longitude': 37.0679303}, 'original_index': 0, 'place_id': 'ChIJfcrPXJNOLxgRL6tuIiZHM6k'}, {'bearing': 10.389142441195093, 'location': {'latitude': -1.043453949213732, 'longitude': 37.06795588927077}, 'original_index': 6, 'place_id': 'ChIJfcrPXJNOLxgRL6tuIiZHM6k'}, {'bearing': 10.389141966219533, 'location': {'latitude': -1.043359, 'longitude': 37.0679733}, 'original_index': 0, 'place_id': 'ChIJfcrPXJNOLxgRL6tuIiZHM6k'}, {'bearing': 13.799637415246348, 'location': {'latitude': -1.0432381000000002, 'longitude': 37.068003000000004}, 'original_index': 0, 'place_id': 'ChIJfcrPXJNOLxgRL6tuIiZHM6k'}, {'bearing': 23.41005945767379, 'location': {'latitude': -1.0431321, 'longitude': 37.068048899999994}, 'original_index': 0, 'place_id': 'ChIJfcrPXJNOLxgRL6tuIiZHM6k'}, {'bearing': 27.859803076834304, 'location': {'latitude': -1.0430065, 'longitude': 37.068115299999995}, 'original_index': 0, 'place_id': 'ChIJfcrPXJNOLxgRL6tuIiZHM6k'}, {'bearing': 0.0, 'location': {'latitude': -1.0430065, 'longitude': 37.068115299999995}, 'original_index': 0, 'place_id': 'ChIJ6zKaPZNOLxgR4AB0UQS9wiA'}, {'bearing': 99.97609189568847, 'location': {'latitude': -1.0431034818622837, 'longitude': 37.068666748377005}, 'original_index': 7, 'place_id': 'ChIJ6zKaPZNOLxgR4AB0UQS9wiA'}, {'bearing': 99.97608185706723, 'location': {'latitude': -1.0431985999999998, 'longitude': 37.0692076}, 'original_index': 0, 'place_id': 'ChIJ6zKaPZNOLxgR4AB0UQS9wiA'}, {'bearing': 0.0, 'location': {'latitude': -1.0431985999999998, 'longitude': 37.0692076}, 'original_index': 0, 'place_id': 'ChIJIxcEIZNOLxgR3s2Y8vv70gU'}, {'bearing': 100.68891023884366, 'location': {'latitude': -1.0432508000000003, 'longitude': 37.0694842}, 'original_index': 0, 'place_id': 'ChIJIxcEIZNOLxgR3s2Y8vv70gU'}, {'bearing': 0.0, 'location': {'latitude': -1.0432508000000003, 'longitude': 37.0694842}, 'original_index': 0, 'place_id': 'ChIJZ-ed25JOLxgRwt2jGG_djQo'}, {'bearing': 100.59062718709721, 'location': {'latitude': -1.0434502522069995, 'longitude': 37.070551106404835}, 'original_index': 8, 'place_id': 'ChIJZ-ed25JOLxgRwt2jGG_djQo'}, {'bearing': 100.59060776449607, 'location': {'latitude': -1.0434590000000001, 'longitude': 37.070597899999996}, 'original_index': 0, 'place_id': 'ChIJZ-ed25JOLxgRwt2jGG_djQo'}, {'bearing': 0.0, 'location': {'latitude': -1.0434590000000001, 'longitude': 37.070597899999996}, 'original_index': 0, 'place_id': 'ChIJ1ddqxpJOLxgRDM0pHKfQWng'}, {'bearing': 99.80516255221616, 'location': {'latitude': -1.0434684, 'longitude': 37.0706523}, 'original_index': 0, 'place_id': 'ChIJ1ddqxpJOLxgRDM0pHKfQWng'}, {'bearing': 0.0, 'location': {'latitude': -1.0434684, 'longitude': 37.0706523}, 'original_index': 0, 'place_id': 'ChIJN5HMx5JOLxgRzFNN1tNCR2Q'}, {'bearing': 100.94743203255437, 'location': {'latitude': -1.0434971, 'longitude': 37.0708007}, 'original_index': 0, 'place_id': 'ChIJN5HMx5JOLxgRzFNN1tNCR2Q'}, {'bearing': 0.0, 'location': {'latitude': -1.0434971, 'longitude': 37.0708007}, 'original_index': 0, 'place_id': 'ChIJe2n7x5JOLxgRpx7eVxRMeww'}, {'bearing': 98.64357867501134, 'location': {'latitude': -1.0435078, 'longitude': 37.0708711}, 'original_index': 0, 'place_id': 'ChIJe2n7x5JOLxgRpx7eVxRMeww'}, {'bearing': 0.0, 'location': {'latitude': -1.0435078, 'longitude': 37.0708711}, 'original_index': 0, 'place_id': 'ChIJ73j1t5JOLxgR09-eHbZOP0A'}, {'bearing': 101.26772491388618, 'location': {'latitude': -1.0435427, 'longitude': 37.07104629999999}, 'original_index': 0, 'place_id': 'ChIJ73j1t5JOLxgR09-eHbZOP0A'}, {'bearing': 0.0, 'location': {'latitude': -1.0435427, 'longitude': 37.07104629999999}, 'original_index': 0, 'place_id': 'ChIJvR22sZJOLxgRtw9xEf3g_Dc'}, {'bearing': 101.1120726101789, 'location': {'latitude': -1.0436055999999998, 'longitude': 37.0713666}, 'original_index': 0, 'place_id': 'ChIJvR22sZJOLxgRtw9xEf3g_Dc'}, {'bearing': 103.65351876213235, 'location': {'latitude': -1.0436465, 'longitude': 37.071535000000004}, 'original_index': 0, 'place_id': 'ChIJvR22sZJOLxgRtw9xEf3g_Dc'}, {'bearing': 106.1634018298187, 'location': {'latitude': -1.0436587, 'longitude': 37.071577100000006}, 'original_index': 0, 'place_id': 'ChIJvR22sZJOLxgRtw9xEf3g_Dc'}, {'bearing': 106.86103934577629, 'location': {'latitude': -1.0437237, 'longitude': 37.0717916}, 'original_index': 0, 'place_id': 'ChIJvR22sZJOLxgRtw9xEf3g_Dc'}, {'bearing': 109.20731520446719, 'location': {'latitude': -1.0438070188213084, 'longitude': 37.07203080046168}, 'original_index': 9, 'place_id': 'ChIJvR22sZJOLxgRtw9xEf3g_Dc'}, {'bearing': 109.20731085006283, 'location': {'latitude': -1.0438275, 'longitude': 37.0720896}, 'original_index': 0, 'place_id': 'ChIJvR22sZJOLxgRtw9xEf3g_Dc'}, {'bearing': 111.98556536616425, 'location': {'latitude': -1.043931, 'longitude': 37.072346}, 'original_index': 0, 'place_id': 'ChIJvR22sZJOLxgRtw9xEf3g_Dc'}, {'bearing': 113.42623282656156, 'location': {'latitude': -1.0441071, 'longitude': 37.07275249999999}, 'original_index': 0, 'place_id': 'ChIJvR22sZJOLxgRtw9xEf3g_Dc'}, {'bearing': 0.0, 'location': {'latitude': -1.0441071, 'longitude': 37.07275249999999}, 'original_index': 0, 'place_id': 'ChIJFV4ZsfJOLxgR3mta04KAivE'}, {'bearing': 118.8385566349171, 'location': {'latitude': -1.0443875999999999, 'longitude': 37.073262}, 'original_index': 0, 'place_id': 'ChIJFV4ZsfJOLxgR3mta04KAivE'}, {'bearing': 120.8797687260442, 'location': {'latitude': -1.0445763000000001, 'longitude': 37.07357759999999}, 'original_index': 0, 'place_id': 'ChIJFV4ZsfJOLxgR3mta04KAivE'}, {'bearing': 0.0, 'location': {'latitude': -1.0445763000000001, 'longitude': 37.07357759999999}, 'original_index': 0, 'place_id': 'ChIJFWwlwfJOLxgRGpVHLlJ7gP0'}, {'bearing': 123.7603174952515, 'location': {'latitude': -1.0448445, 'longitude': 37.07397889999999}, 'original_index': 0, 'place_id': 'ChIJFWwlwfJOLxgRGpVHLlJ7gP0'}, {'bearing': 0.0, 'location': {'latitude': -1.0448445, 'longitude': 37.07397889999999}, 'original_index': 0, 'place_id': 'ChIJgREu6PJOLxgRxMWHeT2B7fI'}, {'bearing': 128.81974545440346, 'location': {'latitude': -1.0450250999999997, 'longitude': 37.0742034}, 'original_index': 10, 'place_id': 'ChIJgREu6PJOLxgRxMWHeT2B7fI'}, {'bearing': 0.0, 'location': {'latitude': -1.0450250999999997, 'longitude': 37.0742034}, 'original_index': 0, 'place_id': 'ChIJo0qb5PJOLxgR1uSXhXMBnzk'}, {'bearing': 128.49493969099433, 'location': {'latitude': -1.0451598, 'longitude': 37.0743728}, 'original_index': 0, 'place_id': 'ChIJo0qb5PJOLxgR1uSXhXMBnzk'}, {'bearing': 0.0, 'location': {'latitude': -1.0451598, 'longitude': 37.0743728}, 'original_index': 0, 'place_id': 'ChIJo0qb5PJOLxgRS7qKBcYh8hw'}, {'bearing': 128.49818442386345, 'location': {'latitude': -1.0455785, 'longitude': 37.074899300000006}, 'original_index': 0, 'place_id': 'ChIJo0qb5PJOLxgRS7qKBcYh8hw'}, {'bearing': 0.0, 'location': {'latitude': -1.0455785, 'longitude': 37.074899300000006}, 'original_index': 0, 'place_id': 'ChIJS5isqPNOLxgRdUT4BTouQaQ'}, {'bearing': 128.1440378495629, 'location': {'latitude': -1.0456454000000002, 'longitude': 37.0749845}, 'original_index': 0, 'place_id': 'ChIJS5isqPNOLxgRdUT4BTouQaQ'}, {'bearing': 0.0, 'location': {'latitude': -1.0456454000000002, 'longitude': 37.0749845}, 'original_index': 0, 'place_id': 'ChIJ6f35pfNOLxgRjGpoMLtbhho'}, {'bearing': 127.93335839213468, 'location': {'latitude': -1.045996, 'longitude': 37.0754344}, 'original_index': 0, 'place_id': 'ChIJ6f35pfNOLxgRjGpoMLtbhho'}, {'bearing': 0.0, 'location': {'latitude': -1.045996, 'longitude': 37.0754344}, 'original_index': 0, 'place_id': 'ChIJ28THpPNOLxgR96iv29-WV3E'}, {'bearing': 127.94544684779831, 'location': {'latitude': -1.0460664, 'longitude': 37.075524699999995}, 'original_index': 0, 'place_id': 'ChIJ28THpPNOLxgR96iv29-WV3E'}, {'bearing': 0.0, 'location': {'latitude': -1.0460664, 'longitude': 37.075524699999995}, 'original_index': 0, 'place_id': 'ChIJ28THpPNOLxgR4Rum5JSNspI'}, {'bearing': 128.00305484616777, 'location': {'latitude': -1.0464059884253272, 'longitude': 37.075959378127784}, 'original_index': 11, 'place_id': 'ChIJ28THpPNOLxgR4Rum5JSNspI'}, {'bearing': 128.00304690913202, 'location': {'latitude': -1.0466103, 'longitude': 37.076220899999996}, 'original_index': 0, 'place_id': 'ChIJ28THpPNOLxgR4Rum5JSNspI'}, {'bearing': 0.0, 'location': {'latitude': -1.0466103, 'longitude': 37.076220899999996}, 'original_index': 0, 'place_id': 'ChIJWb6_u_ZOLxgR2eevjdPD39s'}, {'bearing': 128.7026717103693, 'location': {'latitude': -1.0470058, 'longitude': 37.0767146}, 'original_index': 0, 'place_id': 'ChIJWb6_u_ZOLxgR2eevjdPD39s'}, {'bearing': 127.95722306359875, 'location': {'latitude': -1.0473085000000002, 'longitude': 37.07710269999999}, 'original_index': 0, 'place_id': 'ChIJWb6_u_ZOLxgR2eevjdPD39s'}, {'bearing': 126.75436732660788, 'location': {'latitude': -1.0475311, 'longitude': 37.0774008}, 'original_index': 0, 'place_id': 'ChIJWb6_u_ZOLxgR2eevjdPD39s'}, {'bearing': 125.91110907934595, 'location': {'latitude': -1.0476497, 'longitude': 37.077564599999995}, 'original_index': 0, 'place_id': 'ChIJWb6_u_ZOLxgR2eevjdPD39s'}, {'bearing': 127.28411516458661, 'location': {'latitude': -1.0478055999999998, 'longitude': 37.0777694}, 'original_index': 0, 'place_id': 'ChIJWb6_u_ZOLxgR2eevjdPD39s'}, {'bearing': 129.86361334452673, 'location': {'latitude': -1.0482112, 'longitude': 37.0782552}, 'original_index': 0, 'place_id': 'ChIJWb6_u_ZOLxgR2eevjdPD39s'}, {'bearing': 128.1802191989996, 'location': {'latitude': -1.0483197, 'longitude': 37.0783932}, 'original_index': 0, 'place_id': 'ChIJWb6_u_ZOLxgR2eevjdPD39s'}, {'bearing': 126.8633893901338, 'location': {'latitude': -1.0484434, 'longitude': 37.078558199999996}, 'original_index': 0, 'place_id': 'ChIJWb6_u_ZOLxgR2eevjdPD39s'}, {'bearing': 126.34044834916726, 'location': {'latitude': -1.0486842721700667, 'longitude': 37.07888567788529}, 'original_index': 12, 'place_id': 'ChIJWb6_u_ZOLxgR2eevjdPD39s'}, {'bearing': 126.34044235611793, 'location': {'latitude': -1.0487282, 'longitude': 37.078945399999995}, 'original_index': 0, 'place_id': 'ChIJWb6_u_ZOLxgR2eevjdPD39s'}, {'bearing': 127.6993454326852, 'location': {'latitude': -1.0490043, 'longitude': 37.0793027}, 'original_index': 0, 'place_id': 'ChIJWb6_u_ZOLxgR2eevjdPD39s'}, {'bearing': 129.3851146454991, 'location': {'latitude': -1.04944, 'longitude': 37.07983349999999}, 'original_index': 0, 'place_id': 'ChIJWb6_u_ZOLxgR2eevjdPD39s'}, {'bearing': 130.14476244948852, 'location': {'latitude': -1.0496718999999999, 'longitude': 37.080108499999994}, 'original_index': 0, 'place_id': 'ChIJWb6_u_ZOLxgR2eevjdPD39s'}, {'bearing': 127.72063139350804, 'location': {'latitude': -1.0497763, 'longitude': 37.08024350000001}, 'original_index': 0, 'place_id': 'ChIJWb6_u_ZOLxgR2eevjdPD39s'}, {'bearing': 125.40843518060856, 'location': {'latitude': -1.0498859000000003, 'longitude': 37.0803977}, 'original_index': 0, 'place_id': 'ChIJWb6_u_ZOLxgR2eevjdPD39s'}, {'bearing': 124.97566455567733, 'location': {'latitude': -1.0499890000000003, 'longitude': 37.080545099999995}, 'original_index': 0, 'place_id': 'ChIJWb6_u_ZOLxgR2eevjdPD39s'}, {'bearing': 127.73155697834319, 'location': {'latitude': -1.0502091, 'longitude': 37.0808296}, 'original_index': 0, 'place_id': 'ChIJWb6_u_ZOLxgR2eevjdPD39s'}, {'bearing': 0.0, 'location': {'latitude': -1.0502091, 'longitude': 37.0808296}, 'original_index': 0, 'place_id': 'ChIJJzu-vPdOLxgRHcEkQCNU9Hk'}, {'bearing': 128.18160251824145, 'location': {'latitude': -1.0505233663167957, 'longitude': 37.081229292439915}, 'original_index': 13, 'place_id': 'ChIJJzu-vPdOLxgRHcEkQCNU9Hk'}, {'bearing': 128.18159520200624, 'location': {'latitude': -1.0505424, 'longitude': 37.081253499999995}, 'original_index': 0, 'place_id': 'ChIJJzu-vPdOLxgRHcEkQCNU9Hk'}, {'bearing': 0.0, 'location': {'latitude': -1.0505424, 'longitude': 37.081253499999995}, 'original_index': 0, 'place_id': 'ChIJ39j58fdOLxgRi8EA-AQlY2E'}, {'bearing': 129.24143333966217, 'location': {'latitude': -1.0509682, 'longitude': 37.0817749}, 'original_index': 0, 'place_id': 'ChIJ39j58fdOLxgRi8EA-AQlY2E'}, {'bearing': 128.639938418722, 'location': {'latitude': -1.0512409999999999, 'longitude': 37.0821162}, 'original_index': 0, 'place_id': 'ChIJ39j58fdOLxgRi8EA-AQlY2E'}, {'bearing': 127.35758377828427, 'location': {'latitude': -1.0517087999999999, 'longitude': 37.0827291}, 'original_index': 0, 'place_id': 'ChIJ39j58fdOLxgRi8EA-AQlY2E'}, {'bearing': 0.0, 'location': {'latitude': -1.0517087999999999, 'longitude': 37.0827291}, 'original_index': 0, 'place_id': 'ChIJ6evSAPhOLxgR5RD3uAqZnD8'}, {'bearing': 128.83420475869474, 'location': {'latitude': -1.0518771639406377, 'longitude': 37.08293828196691}, 'original_index': 14, 'place_id': 'ChIJ6evSAPhOLxgR5RD3uAqZnD8'}, {'bearing': 128.83420091897082, 'location': {'latitude': -1.0519105, 'longitude': 37.0829797}, 'original_index': 0, 'place_id': 'ChIJ6evSAPhOLxgR5RD3uAqZnD8'}, {'bearing': 0.0, 'location': {'latitude': -1.0519105, 'longitude': 37.0829797}, 'original_index': 0, 'place_id': 'ChIJs-xQ_1dOLxgRaNLasVjswmI'}, {'bearing': 35.63735476161678, 'location': {'latitude': -1.0516405, 'longitude': 37.08317329999999}, 'original_index': 0, 'place_id': 'ChIJs-xQ_1dOLxgRaNLasVjswmI'}, {'bearing': 37.430606533225045, 'location': {'latitude': -1.0514698999999998, 'longitude': 37.0833039}, 'original_index': 0, 'place_id': 'ChIJs-xQ_1dOLxgRaNLasVjswmI'}, {'bearing': 0.0, 'location': {'latitude': -1.0514698999999998, 'longitude': 37.0833039}, 'original_index': 0, 'place_id': 'ChIJs-xQ_1dOLxgRPCPO3CMsozM'}, {'bearing': 37.432243157030804, 'location': {'latitude': -1.0511666, 'longitude': 37.0835361}, 'original_index': 0, 'place_id': 'ChIJs-xQ_1dOLxgRPCPO3CMsozM'}, {'bearing': 0.0, 'location': {'latitude': -1.0511666, 'longitude': 37.0835361}, 'original_index': 0, 'place_id': 'ChIJ0eoFa1hOLxgRcXVCmAlI_80'}, {'bearing': 37.532920791646184, 'location': {'latitude': -1.0508808, 'longitude': 37.0837557}, 'original_index': 0, 'place_id': 'ChIJ0eoFa1hOLxgRcXVCmAlI_80'}, {'bearing': 0.0, 'location': {'latitude': -1.0508808, 'longitude': 37.0837557}, 'original_index': 0, 'place_id': 'ChIJ0eoFa1hOLxgRTpydcJZNa90'}, {'bearing': 37.81001840514068, 'location': {'latitude': -1.0497223, 'longitude': 37.084654799999996}, 'original_index': 0, 'place_id': 'ChIJ0eoFa1hOLxgRTpydcJZNa90'}, {'bearing': 0.0, 'location': {'latitude': -1.0497223, 'longitude': 37.084654799999996}, 'original_index': 0, 'place_id': 'ChIJoSCCQlhOLxgRzkN4f2XFv7U'}, {'bearing': 37.71958224459979, 'location': {'latitude': -1.049456, 'longitude': 37.0848608}, 'original_index': 0, 'place_id': 'ChIJoSCCQlhOLxgRzkN4f2XFv7U'}, {'bearing': 36.95127952271959, 'location': {'latitude': -1.0491685, 'longitude': 37.0850771}, 'original_index': 15, 'place_id': 'ChIJoSCCQlhOLxgRzkN4f2XFv7U'}, {'bearing': 0.0, 'location': {'latitude': -1.0491685, 'longitude': 37.0850771}, 'original_index': 0, 'place_id': 'ChIJoSCCQlhOLxgRzkN4f2XFv7U'}, {'bearing': 0.0, 'location': {'latitude': -1.0491685, 'longitude': 37.0850771}, 'original_index': 0, 'place_id': 'ChIJkTtp3lhOLxgRYbdHfxElJrY'}, {'bearing': 34.872869105765496, 'location': {'latitude': -1.0491114, 'longitude': 37.085116899999996}, 'original_index': 0, 'place_id': 'ChIJkTtp3lhOLxgRYbdHfxElJrY'}, {'bearing': 25.419967909769877, 'location': {'latitude': -1.0481745999999998, 'longitude': 37.0855622}, 'original_index': 0, 'place_id': 'ChIJkTtp3lhOLxgRYbdHfxElJrY'}, {'bearing': 20.011049987905857, 'location': {'latitude': -1.0479374000000001, 'longitude': 37.0856486}, 'original_index': 0, 'place_id': 'ChIJkTtp3lhOLxgRYbdHfxElJrY'}, {'bearing': 0.0, 'location': {'latitude': -1.0479374000000001, 'longitude': 37.0856486}, 'original_index': 0, 'place_id': 'ChIJkTtp3lhOLxgRc-bwLyhKK_M'}, {'bearing': 19.945949044138526, 'location': {'latitude': -1.0478834, 'longitude': 37.08566819999999}, 'original_index': 0, 'place_id': 'ChIJkTtp3lhOLxgRc-bwLyhKK_M'}, {'bearing': 0.0, 'location': {'latitude': -1.0478834, 'longitude': 37.08566819999999}, 'original_index': 0, 'place_id': 'ChIJz6f03lhOLxgRk0CSNEWyWoE'}, {'bearing': 19.996769678146816, 'location': {'latitude': -1.0477735, 'longitude': 37.0857082}, 'original_index': 0, 'place_id': 'ChIJz6f03lhOLxgRk0CSNEWyWoE'}, {'bearing': 0.0, 'location': {'latitude': -1.0477735, 'longitude': 37.0857082}, 'original_index': 0, 'place_id': 'ChIJA2kD1V5OLxgRlUEzafU5sd8'}, {'bearing': 22.534952747001054, 'location': {'latitude': -1.0473241, 'longitude': 37.0858947}, 'original_index': 0, 'place_id': 'ChIJA2kD1V5OLxgRlUEzafU5sd8'}, {'bearing': 0.0, 'location': {'latitude': -1.0473241, 'longitude': 37.0858947}, 'original_index': 0, 'place_id': 'ChIJJeQo5F5OLxgRm3foE4jeoOM'}, {'bearing': 24.725155095276065, 'location': {'latitude': -1.046879565052449, 'longitude': 37.08609943390677}, 'original_index': 16, 'place_id': 'ChIJJeQo5F5OLxgRm3foE4jeoOM'}, {'bearing': 24.725151353979246, 'location': {'latitude': -1.0465635, 'longitude': 37.086245}, 'original_index': 0, 'place_id': 'ChIJJeQo5F5OLxgRm3foE4jeoOM'}, {'bearing': 16.87300112568384, 'location': {'latitude': -1.04637, 'longitude': 37.086303699999995}, 'original_index': 0, 'place_id': 'ChIJJeQo5F5OLxgRm3foE4jeoOM'}, {'bearing': 6.849727551500872, 'location': {'latitude': -1.0461744000000002, 'longitude': 37.0863272}, 'original_index': 0, 'place_id': 'ChIJJeQo5F5OLxgRm3foE4jeoOM'}, {'bearing': -3.8134409987092552, 'location': {'latitude': -1.0461129, 'longitude': 37.0863231}, 'original_index': 0, 'place_id': 'ChIJJeQo5F5OLxgRm3foE4jeoOM'}, {'bearing': 0.0, 'location': {'latitude': -1.0461129, 'longitude': 37.0863231}, 'original_index': 0, 'place_id': 'ChIJJeQo5F5OLxgRWHMCxwxu7gw'}, {'bearing': -3.7435904314432156, 'location': {'latitude': -1.0460257999999998, 'longitude': 37.0863174}, 'original_index': 0, 'place_id': 'ChIJJeQo5F5OLxgRWHMCxwxu7gw'}, {'bearing': -5.9010407817189146, 'location': {'latitude': -1.0459133822850795, 'longitude': 37.08630577875914}, 'original_index': 17, 'place_id': 'ChIJJeQo5F5OLxgRWHMCxwxu7gw'}, {'bearing': -5.901040571718814, 'location': {'latitude': -1.0458361999999999, 'longitude': 37.0862978}, 'original_index': 0, 'place_id': 'ChIJJeQo5F5OLxgRWHMCxwxu7gw'}, {'bearing': -16.86234014349474, 'location': {'latitude': -1.0455225, 'longitude': 37.0862027}, 'original_index': 0, 'place_id': 'ChIJJeQo5F5OLxgRWHMCxwxu7gw'}, {'bearing': 0.0, 'location': {'latitude': -1.0455225, 'longitude': 37.0862027}, 'original_index': 0, 'place_id': 'ChIJ0QyxW15OLxgRkau3Lg9Q50A'}, {'bearing': 63.039927161433546, 'location': {'latitude': -1.0452314999999999, 'longitude': 37.0867749}, 'original_index': 0, 'place_id': 'ChIJ0QyxW15OLxgRkau3Lg9Q50A'}, {'bearing': 0.0, 'location': {'latitude': -1.0452314999999999, 'longitude': 37.0867749}, 'original_index': 0, 'place_id': 'ChIJqaIpQF5OLxgRJ9pUyrm4TT0'}, {'bearing': 32.20417271093222, 'location': {'latitude': -1.0451480000000002, 'longitude': 37.086827500000005}, 'original_index': 0, 'place_id': 'ChIJqaIpQF5OLxgRJ9pUyrm4TT0'}, {'bearing': 31.10573708755756, 'location': {'latitude': -1.0450214000000002, 'longitude': 37.086903899999996}, 'original_index': 0, 'place_id': 'ChIJqaIpQF5OLxgRJ9pUyrm4TT0'}, {'bearing': 24.59672932205518, 'location': {'latitude': -1.0448804698970333, 'longitude': 37.08696842383676}, 'original_index': 18, 'place_id': 'ChIJqaIpQF5OLxgRJ9pUyrm4TT0'}, {'bearing': 24.596728140862037, 'location': {'latitude': -1.0444948, 'longitude': 37.087145}, 'original_index': 0, 'place_id': 'ChIJqaIpQF5OLxgRJ9pUyrm4TT0'}, {'bearing': 0.0, 'location': {'latitude': -1.0444948, 'longitude': 37.087145}, 'original_index': 0, 'place_id': 'ChIJL_s-HF5OLxgRDZ9mCZ44Odk'}, {'bearing': 23.938953724501783, 'location': {'latitude': -1.0440696, 'longitude': 37.0873338}, 'original_index': 0, 'place_id': 'ChIJL_s-HF5OLxgRDZ9mCZ44Odk'}, {'bearing': 0.0, 'location': {'latitude': -1.0440696, 'longitude': 37.0873338}, 'original_index': 0, 'place_id': 'ChIJL_s-HF5OLxgRflERGxjUm78'}, {'bearing': 23.87083569841933, 'location': {'latitude': -1.0433936, 'longitude': 37.087633000000004}, 'original_index': 0, 'place_id': 'ChIJL_s-HF5OLxgRflERGxjUm78'}, {'bearing': 0.0, 'location': {'latitude': -1.0433936, 'longitude': 37.087633000000004}, 'original_index': 0, 'place_id': 'ChIJ8bo8tmBOLxgRSFAXr7FYnOA'}, {'bearing': 23.665132445161802, 'location': {'latitude': -1.0425359999999997, 'longitude': 37.0880089}, 'original_index': 0, 'place_id': 'ChIJ8bo8tmBOLxgRSFAXr7FYnOA'}, {'bearing': 22.73747951771681, 'location': {'latitude': -1.0424127125565472, 'longitude': 37.08806057559197}, 'original_index': 19, 'place_id': 'ChIJ8bo8tmBOLxgRSFAXr7FYnOA'}, {'bearing': 22.737478579856127, 'location': {'latitude': -1.0422874, 'longitude': 37.0881131}, 'original_index': 0, 'place_id': 'ChIJ8bo8tmBOLxgRSFAXr7FYnOA'}, {'bearing': 0.0, 'location': {'latitude': -1.0422874, 'longitude': 37.0881131}, 'original_index': 0, 'place_id': 'ChIJL4WGzWZOLxgR-EZpliH9Zsg'}, {'bearing': 23.2640733635638, 'location': {'latitude': -1.0420366999999997, 'longitude': 37.088220899999996}, 'original_index': 0, 'place_id': 'ChIJL4WGzWZOLxgR-EZpliH9Zsg'}, {'bearing': 0.0, 'location': {'latitude': -1.0420366999999997, 'longitude': 37.088220899999996}, 'original_index': 0, 'place_id': 'ChIJQ-FJzGZOLxgRKDaS6fm_h4o'}, {'bearing': 23.274928965591776, 'location': {'latitude': -1.0407024999999999, 'longitude': 37.088794899999996}, 'original_index': 0, 'place_id': 'ChIJQ-FJzGZOLxgRKDaS6fm_h4o'}, {'bearing': 0.0, 'location': {'latitude': -1.0407024999999999, 'longitude': 37.088794899999996}, 'original_index': 0, 'place_id': 'ChIJQ-FJzGZOLxgRB2qHmAaTCdo'}, {'bearing': 23.263011365506795, 'location': {'latitude': -1.0405058789541717, 'longitude': 37.088879441905746}, 'original_index': 20, 'place_id': 'ChIJQ-FJzGZOLxgRB2qHmAaTCdo'}, {'bearing': 23.26300982975, 'location': {'latitude': -1.0403969, 'longitude': 37.0889263}, 'original_index': 0, 'place_id': 'ChIJQ-FJzGZOLxgRB2qHmAaTCdo'}, {'bearing': 0.0, 'location': {'latitude': -1.0403969, 'longitude': 37.0889263}, 'original_index': 0, 'place_id': 'ChIJdYalu2ZOLxgRdr8YXMgArrE'}, {'bearing': 114.97764843935997, 'location': {'latitude': -1.040656, 'longitude': 37.0894826}, 'original_index': 0, 'place_id': 'ChIJdYalu2ZOLxgRdr8YXMgArrE'}, {'bearing': 0.0, 'location': {'latitude': -1.040656, 'longitude': 37.0894826}, 'original_index': 0, 'place_id': 'ChIJx1FHvWZOLxgR8CGsqnKBkfA'}, {'bearing': 16.708615711248775, 'location': {'latitude': -1.0404365, 'longitude': 37.0895485}, 'original_index': 0, 'place_id': 'ChIJx1FHvWZOLxgR8CGsqnKBkfA'}, {'bearing': 22.39427082332233, 'location': {'latitude': -1.040321, 'longitude': 37.089596099999994}, 'original_index': 21, 'place_id': 'ChIJx1FHvWZOLxgR8CGsqnKBkfA'}, {'bearing': 0.0, 'location': {'latitude': -1.040321, 'longitude': 37.089596099999994}, 'original_index': 0, 'place_id': 'ChIJx1FHvWZOLxgR31DkzpRAMZM'}, {'bearing': 22.376809982736287, 'location': {'latitude': -1.0403141999999999, 'longitude': 37.0895989}, 'original_index': 0, 'place_id': 'ChIJx1FHvWZOLxgR31DkzpRAMZM'}, {'bearing': 34.45828754942747, 'location': {'latitude': -1.0401921, 'longitude': 37.0896827}, 'original_index': 0, 'place_id': 'ChIJx1FHvWZOLxgR31DkzpRAMZM'}, {'bearing': 0.0, 'location': {'latitude': -1.0401921, 'longitude': 37.0896827}, 'original_index': 0, 'place_id': 'ChIJLWGOnmZOLxgR1IX7eeeyf1E'}, {'bearing': 35.77407185044667, 'location': {'latitude': -1.0401247999999998, 'longitude': 37.089731199999996}, 'original_index': 0, 'place_id': 'ChIJLWGOnmZOLxgR1IX7eeeyf1E'}, {'bearing': 53.44590523298767, 'location': {'latitude': -1.0400268, 'longitude': 37.0898634}, 'original_index': 0, 'place_id': 'ChIJLWGOnmZOLxgR1IX7eeeyf1E'}, {'bearing': 67.76974209800734, 'location': {'latitude': -1.0399483000000003, 'longitude': 37.0900555}, 'original_index': 0, 'place_id': 'ChIJLWGOnmZOLxgR1IX7eeeyf1E'}, {'bearing': 73.61499464377987, 'location': {'latitude': -1.0399097, 'longitude': 37.090186800000005}, 'original_index': 0, 'place_id': 'ChIJLWGOnmZOLxgR1IX7eeeyf1E'}, {'bearing': 0.0, 'location': {'latitude': -1.0399097, 'longitude': 37.090186800000005}, 'original_index': 0, 'place_id': 'ChIJhc_RKWROLxgRa5v1jqTsoJg'}, {'bearing': 75.67165881051905, 'location': {'latitude': -1.0398836, 'longitude': 37.090289000000006}, 'original_index': 0, 'place_id': 'ChIJhc_RKWROLxgRa5v1jqTsoJg'}, {'bearing': 83.7672389979272, 'location': {'latitude': -1.0398533915830899, 'longitude': 37.0905656455244}, 'original_index': 22, 'place_id': 'ChIJhc_RKWROLxgRa5v1jqTsoJg'}, {'bearing': 83.76723397661567, 'location': {'latitude': -1.0398475, 'longitude': 37.090619600000004}, 'original_index': 0, 'place_id': 'ChIJhc_RKWROLxgRa5v1jqTsoJg'}, {'bearing': 88.00442720556453, 'location': {'latitude': -1.0398431, 'longitude': 37.0907459}, 'original_index': 0, 'place_id': 'ChIJhc_RKWROLxgRa5v1jqTsoJg'}, {'bearing': 102.40528959920974, 'location': {'latitude': -1.0398547999999996, 'longitude': 37.09079909999999}, 'original_index': 0, 'place_id': 'ChIJhc_RKWROLxgRa5v1jqTsoJg'}, {'bearing': 117.88463936460072, 'location': {'latitude': -1.0398885, 'longitude': 37.09086279999999}, 'original_index': 0, 'place_id': 'ChIJhc_RKWROLxgRa5v1jqTsoJg'}, {'bearing': 0.0, 'location': {'latitude': -1.0398885, 'longitude': 37.09086279999999}, 'original_index': 0, 'place_id': 'ChIJ8-V0e2ZOLxgRucqlhYh9hL0'}, {'bearing': 122.69759060398066, 'location': {'latitude': -1.0399772, 'longitude': 37.09100099999999}, 'original_index': 0, 'place_id': 'ChIJ8-V0e2ZOLxgRucqlhYh9hL0'}, {'bearing': 0.0, 'location': {'latitude': -1.0399772, 'longitude': 37.09100099999999}, 'original_index': 0, 'place_id': 'ChIJcc0Ye2ZOLxgRvhlK8dYQSCc'}, {'bearing': 122.6911685451065, 'location': {'latitude': -1.040434393349135, 'longitude': 37.09171351093947}, 'original_index': 23, 'place_id': 'ChIJcc0Ye2ZOLxgRvhlK8dYQSCc'}, {'bearing': 122.69115561009541, 'location': {'latitude': -1.0406, 'longitude': 37.0919716}, 'original_index': 0, 'place_id': 'ChIJcc0Ye2ZOLxgRvhlK8dYQSCc'}, {'bearing': 0.0, 'location': {'latitude': -1.0406, 'longitude': 37.0919716}, 'original_index': 0, 'place_id': 'ChIJcY57LmZOLxgRSG9dwiy26Rk'}, {'bearing': 122.69202283424868, 'location': {'latitude': -1.0410066640005577, 'longitude': 37.092605343015805}, 'original_index': 24, 'place_id': 'ChIJcY57LmZOLxgRSG9dwiy26Rk'}, {'bearing': 122.69201132249106, 'location': {'latitude': -1.0410652482678404, 'longitude': 37.092696640456204}, 'original_index': 25, 'place_id': 'ChIJcY57LmZOLxgRSG9dwiy26Rk'}]}\n"
     ]
    }
   ],
   "source": [
    "print(trips[0])"
   ]
  },
  {
   "cell_type": "code",
   "execution_count": 36,
   "metadata": {},
   "outputs": [
    {
     "name": "stdout",
     "output_type": "stream",
     "text": [
      "['id', 'created', 'asset_id', 'distance', 'origin_latitude', 'origin_longitude', 'origin_time_stamp', 'origin_address', 'origin_odometer', 'destination_latitude', 'destination_longitude', 'destination_time_stamp', 'destination_address', 'destination_odometer', 'point_bearing', 'point_latitude', 'point_longitude', 'point_original_index', 'point_place_id']\n"
     ]
    }
   ],
   "source": [
    "columns = []\n",
    "columns.append('id')\n",
    "columns.append('created')\n",
    "columns.append('asset_id')\n",
    "columns.append('distance')\n",
    "data_origin = trips[3]['origin']\n",
    "data_destination = trips[4]['destination']\n",
    "data_points = trips[6]['points'][0]\n",
    "for key in data_origin.keys():\n",
    "    if key not in columns:\n",
    "        columns.append('origin_' + key)\n",
    "for key in data_destination.keys():\n",
    "    if key not in columns:\n",
    "        columns.append('destination_' + key)\n",
    "for k, v in data_points.items():\n",
    "    if k not in columns:\n",
    "        if k == 'location':\n",
    "            for key in v.keys():\n",
    "                if key not in columns:\n",
    "                    columns.append('point_' + key)\n",
    "        else:\n",
    "            columns.append('point_' + k)\n",
    "print(columns)\n"
   ]
  },
  {
   "cell_type": "code",
   "execution_count": 5,
   "metadata": {},
   "outputs": [],
   "source": [
    "# trips_df = pd.DataFrame(columns=columns)\n",
    "# fill the dataframe columns with trips data "
   ]
  },
  {
   "cell_type": "code",
   "execution_count": 43,
   "metadata": {},
   "outputs": [
    {
     "data": {
      "text/html": [
       "<div>\n",
       "<style scoped>\n",
       "    .dataframe tbody tr th:only-of-type {\n",
       "        vertical-align: middle;\n",
       "    }\n",
       "\n",
       "    .dataframe tbody tr th {\n",
       "        vertical-align: top;\n",
       "    }\n",
       "\n",
       "    .dataframe thead th {\n",
       "        text-align: right;\n",
       "    }\n",
       "</style>\n",
       "<table border=\"1\" class=\"dataframe\">\n",
       "  <thead>\n",
       "    <tr style=\"text-align: right;\">\n",
       "      <th></th>\n",
       "      <th>id</th>\n",
       "      <th>created</th>\n",
       "      <th>asset_id</th>\n",
       "      <th>distance</th>\n",
       "      <th>origin_latitude</th>\n",
       "      <th>origin_longitude</th>\n",
       "      <th>origin_time_stamp</th>\n",
       "      <th>origin_address</th>\n",
       "      <th>origin_odometer</th>\n",
       "      <th>destination_latitude</th>\n",
       "      <th>destination_longitude</th>\n",
       "      <th>destination_time_stamp</th>\n",
       "      <th>destination_address</th>\n",
       "      <th>destination_odometer</th>\n",
       "      <th>point_bearing</th>\n",
       "      <th>point_latitude</th>\n",
       "      <th>point_longitude</th>\n",
       "      <th>point_original_index</th>\n",
       "      <th>point_place_id</th>\n",
       "    </tr>\n",
       "  </thead>\n",
       "  <tbody>\n",
       "    <tr>\n",
       "      <th>0</th>\n",
       "      <td>35Ldjpf</td>\n",
       "      <td>2022-03-14T17:31:51.003+00:00</td>\n",
       "      <td>0ROajub</td>\n",
       "      <td>4321.65</td>\n",
       "      <td>-1.04322</td>\n",
       "      <td>37.067928</td>\n",
       "      <td>2022-03-14T17:31:47+00:00</td>\n",
       "      <td>Thika Garissa Highway, Total, Thika, Kenya</td>\n",
       "      <td>None</td>\n",
       "      <td>-1.041213</td>\n",
       "      <td>37.092602</td>\n",
       "      <td>2022-03-14T17:54:07+00:00</td>\n",
       "      <td>Kenyatta Highway, Thika, Kiambu County, Kenya</td>\n",
       "      <td>None</td>\n",
       "      <td>0.0</td>\n",
       "      <td>-1.040909</td>\n",
       "      <td>37.071567</td>\n",
       "      <td>0</td>\n",
       "      <td>ChIJuy2HBJJOLxgRflFygNiz0W4</td>\n",
       "    </tr>\n",
       "    <tr>\n",
       "      <th>1</th>\n",
       "      <td>agWTdy5</td>\n",
       "      <td>2023-03-07T08:53:55.607+00:00</td>\n",
       "      <td>0gMAW5w</td>\n",
       "      <td>24703.24</td>\n",
       "      <td>-1.305577</td>\n",
       "      <td>36.824627</td>\n",
       "      <td>2023-03-07T08:53:51+00:00</td>\n",
       "      <td>Nyayo Stadium, Nairobi, Kenya</td>\n",
       "      <td>None</td>\n",
       "      <td>-1.430601</td>\n",
       "      <td>36.687973</td>\n",
       "      <td>2023-03-07T10:13:47+00:00</td>\n",
       "      <td>Magadi Road, Kiserian, Kajiado County, Kenya</td>\n",
       "      <td>None</td>\n",
       "      <td>-163.431442</td>\n",
       "      <td>-1.041084</td>\n",
       "      <td>37.071515</td>\n",
       "      <td>0</td>\n",
       "      <td>ChIJuy2HBJJOLxgRflFygNiz0W4</td>\n",
       "    </tr>\n",
       "    <tr>\n",
       "      <th>2</th>\n",
       "      <td>mcXsPmo</td>\n",
       "      <td>2023-03-07T06:40:53.771+00:00</td>\n",
       "      <td>0gMAW5w</td>\n",
       "      <td>30689.27</td>\n",
       "      <td>-1.430067</td>\n",
       "      <td>36.688068</td>\n",
       "      <td>2023-03-07T06:40:48+00:00</td>\n",
       "      <td>Magadi Road, Kiserian, Kajiado County, Kenya</td>\n",
       "      <td>None</td>\n",
       "      <td>-1.305638</td>\n",
       "      <td>36.824879</td>\n",
       "      <td>2023-03-07T08:25:04+00:00</td>\n",
       "      <td>Nyayo Stadium, Nairobi, Kenya</td>\n",
       "      <td>None</td>\n",
       "      <td>0.0</td>\n",
       "      <td>-1.041084</td>\n",
       "      <td>37.071515</td>\n",
       "      <td>1</td>\n",
       "      <td>ChIJjRl4E5JOLxgR5QYZp79nAZQ</td>\n",
       "    </tr>\n",
       "    <tr>\n",
       "      <th>3</th>\n",
       "      <td>WRBY3Lt</td>\n",
       "      <td>2023-03-07T05:12:29.007+00:00</td>\n",
       "      <td>0gMAW5w</td>\n",
       "      <td>24609.34</td>\n",
       "      <td>-1.30549</td>\n",
       "      <td>36.825317</td>\n",
       "      <td>2023-03-07T05:12:26+00:00</td>\n",
       "      <td>Nyayo Stadium, Nairobi, Kenya</td>\n",
       "      <td>None</td>\n",
       "      <td>-1.429965</td>\n",
       "      <td>36.688194</td>\n",
       "      <td>2023-03-07T06:29:53+00:00</td>\n",
       "      <td>Magadi Road, Kiserian, Kajiado County, Kenya</td>\n",
       "      <td>None</td>\n",
       "      <td>-72.222748</td>\n",
       "      <td>-1.040909</td>\n",
       "      <td>37.070972</td>\n",
       "      <td>0</td>\n",
       "      <td>ChIJjRl4E5JOLxgR5QYZp79nAZQ</td>\n",
       "    </tr>\n",
       "    <tr>\n",
       "      <th>4</th>\n",
       "      <td>1WaNBeb</td>\n",
       "      <td>2023-03-07T03:15:18.67+00:00</td>\n",
       "      <td>0gMAW5w</td>\n",
       "      <td>28395.71</td>\n",
       "      <td>-1.397144</td>\n",
       "      <td>36.75983</td>\n",
       "      <td>2023-03-07T03:15:15+00:00</td>\n",
       "      <td>Soronik Road, Nairobi, Kenya</td>\n",
       "      <td>None</td>\n",
       "      <td>-1.305595</td>\n",
       "      <td>36.825199</td>\n",
       "      <td>2023-03-07T04:59:31+00:00</td>\n",
       "      <td>Gandhi Avenue, Nairobi West, Nairobi, Nairobi ...</td>\n",
       "      <td>None</td>\n",
       "      <td>0.0</td>\n",
       "      <td>-1.040909</td>\n",
       "      <td>37.070972</td>\n",
       "      <td>0</td>\n",
       "      <td>ChIJx5QNLpJOLxgRzW-2tUJvBuo</td>\n",
       "    </tr>\n",
       "  </tbody>\n",
       "</table>\n",
       "</div>"
      ],
      "text/plain": [
       "        id                        created asset_id  distance origin_latitude  \\\n",
       "0  35Ldjpf  2022-03-14T17:31:51.003+00:00  0ROajub   4321.65        -1.04322   \n",
       "1  agWTdy5  2023-03-07T08:53:55.607+00:00  0gMAW5w  24703.24       -1.305577   \n",
       "2  mcXsPmo  2023-03-07T06:40:53.771+00:00  0gMAW5w  30689.27       -1.430067   \n",
       "3  WRBY3Lt  2023-03-07T05:12:29.007+00:00  0gMAW5w  24609.34        -1.30549   \n",
       "4  1WaNBeb   2023-03-07T03:15:18.67+00:00  0gMAW5w  28395.71       -1.397144   \n",
       "\n",
       "  origin_longitude          origin_time_stamp  \\\n",
       "0        37.067928  2022-03-14T17:31:47+00:00   \n",
       "1        36.824627  2023-03-07T08:53:51+00:00   \n",
       "2        36.688068  2023-03-07T06:40:48+00:00   \n",
       "3        36.825317  2023-03-07T05:12:26+00:00   \n",
       "4         36.75983  2023-03-07T03:15:15+00:00   \n",
       "\n",
       "                                 origin_address origin_odometer  \\\n",
       "0    Thika Garissa Highway, Total, Thika, Kenya            None   \n",
       "1                 Nyayo Stadium, Nairobi, Kenya            None   \n",
       "2  Magadi Road, Kiserian, Kajiado County, Kenya            None   \n",
       "3                 Nyayo Stadium, Nairobi, Kenya            None   \n",
       "4                  Soronik Road, Nairobi, Kenya            None   \n",
       "\n",
       "  destination_latitude destination_longitude     destination_time_stamp  \\\n",
       "0            -1.041213             37.092602  2022-03-14T17:54:07+00:00   \n",
       "1            -1.430601             36.687973  2023-03-07T10:13:47+00:00   \n",
       "2            -1.305638             36.824879  2023-03-07T08:25:04+00:00   \n",
       "3            -1.429965             36.688194  2023-03-07T06:29:53+00:00   \n",
       "4            -1.305595             36.825199  2023-03-07T04:59:31+00:00   \n",
       "\n",
       "                                 destination_address destination_odometer  \\\n",
       "0      Kenyatta Highway, Thika, Kiambu County, Kenya                 None   \n",
       "1       Magadi Road, Kiserian, Kajiado County, Kenya                 None   \n",
       "2                      Nyayo Stadium, Nairobi, Kenya                 None   \n",
       "3       Magadi Road, Kiserian, Kajiado County, Kenya                 None   \n",
       "4  Gandhi Avenue, Nairobi West, Nairobi, Nairobi ...                 None   \n",
       "\n",
       "  point_bearing point_latitude point_longitude point_original_index  \\\n",
       "0           0.0      -1.040909       37.071567                    0   \n",
       "1   -163.431442      -1.041084       37.071515                    0   \n",
       "2           0.0      -1.041084       37.071515                    1   \n",
       "3    -72.222748      -1.040909       37.070972                    0   \n",
       "4           0.0      -1.040909       37.070972                    0   \n",
       "\n",
       "                point_place_id  \n",
       "0  ChIJuy2HBJJOLxgRflFygNiz0W4  \n",
       "1  ChIJuy2HBJJOLxgRflFygNiz0W4  \n",
       "2  ChIJjRl4E5JOLxgR5QYZp79nAZQ  \n",
       "3  ChIJjRl4E5JOLxgR5QYZp79nAZQ  \n",
       "4  ChIJx5QNLpJOLxgRzW-2tUJvBuo  "
      ]
     },
     "execution_count": 43,
     "metadata": {},
     "output_type": "execute_result"
    }
   ],
   "source": [
    "#trips_df.head()"
   ]
  },
  {
   "attachments": {},
   "cell_type": "markdown",
   "metadata": {},
   "source": [
    "`Load` data into a Pandas dataframe from the CSV file in the `Data` folder. Do not run the two code cells below as it will take much time to execute."
   ]
  },
  {
   "cell_type": "code",
   "execution_count": 42,
   "metadata": {},
   "outputs": [],
   "source": [
    "for i, trip in enumerate(trips):\n",
    "    trips_df.loc[i, 'id'] = trip['id']\n",
    "    trips_df.loc[i, 'created'] = trip['created']\n",
    "    trips_df.loc[i, 'asset_id'] = trip['asset_id']\n",
    "    trips_df.loc[i, 'distance'] = trip['distance']\n",
    "    for key, value in trip['origin'].items():\n",
    "        trips_df.loc[i, 'origin_' + key] = value\n",
    "    for key, value in trip['destination'].items():\n",
    "        trips_df.loc[i, 'destination_' + key] = value\n",
    "    for i, v in enumerate(trip['points']):\n",
    "        for key, value in v.items():\n",
    "            if key == 'location':\n",
    "                for k, v in value.items():\n",
    "                    trips_df.loc[i, 'point_' + k] = v\n",
    "            else:\n",
    "                trips_df.loc[i, 'point_' + key] = value"
   ]
  },
  {
   "cell_type": "code",
   "execution_count": 44,
   "metadata": {},
   "outputs": [],
   "source": [
    "# save the trips_df to csv file\n",
    "trips_df.to_csv('Data/trips_df.csv', index=False)"
   ]
  },
  {
   "cell_type": "code",
   "execution_count": 7,
   "metadata": {},
   "outputs": [],
   "source": [
    "# save the assets_df to csv file\n",
    "assets.to_csv('Data/assets_df.csv', index=False)"
   ]
  },
  {
   "attachments": {},
   "cell_type": "markdown",
   "metadata": {},
   "source": [
    "Execute the code cells below to start working with trips data."
   ]
  },
  {
   "cell_type": "code",
   "execution_count": 6,
   "metadata": {},
   "outputs": [],
   "source": [
    "trips_df = pd.read_csv('Data/trips_df.csv')"
   ]
  },
  {
   "cell_type": "code",
   "execution_count": 8,
   "metadata": {},
   "outputs": [
    {
     "data": {
      "text/plain": [
       "(6703, 19)"
      ]
     },
     "execution_count": 8,
     "metadata": {},
     "output_type": "execute_result"
    }
   ],
   "source": [
    "trips_df.shape"
   ]
  },
  {
   "cell_type": "code",
   "execution_count": 9,
   "metadata": {},
   "outputs": [
    {
     "data": {
      "text/html": [
       "<div>\n",
       "<style scoped>\n",
       "    .dataframe tbody tr th:only-of-type {\n",
       "        vertical-align: middle;\n",
       "    }\n",
       "\n",
       "    .dataframe tbody tr th {\n",
       "        vertical-align: top;\n",
       "    }\n",
       "\n",
       "    .dataframe thead th {\n",
       "        text-align: right;\n",
       "    }\n",
       "</style>\n",
       "<table border=\"1\" class=\"dataframe\">\n",
       "  <thead>\n",
       "    <tr style=\"text-align: right;\">\n",
       "      <th></th>\n",
       "      <th>distance</th>\n",
       "      <th>origin_latitude</th>\n",
       "      <th>origin_longitude</th>\n",
       "      <th>origin_odometer</th>\n",
       "      <th>destination_latitude</th>\n",
       "      <th>destination_longitude</th>\n",
       "      <th>destination_odometer</th>\n",
       "      <th>point_bearing</th>\n",
       "      <th>point_latitude</th>\n",
       "      <th>point_longitude</th>\n",
       "      <th>point_original_index</th>\n",
       "    </tr>\n",
       "  </thead>\n",
       "  <tbody>\n",
       "    <tr>\n",
       "      <th>count</th>\n",
       "      <td>4804.000000</td>\n",
       "      <td>4804.000000</td>\n",
       "      <td>4804.000000</td>\n",
       "      <td>0.0</td>\n",
       "      <td>4804.000000</td>\n",
       "      <td>4804.000000</td>\n",
       "      <td>0.0</td>\n",
       "      <td>6703.000000</td>\n",
       "      <td>6703.000000</td>\n",
       "      <td>6703.000000</td>\n",
       "      <td>6703.000000</td>\n",
       "    </tr>\n",
       "    <tr>\n",
       "      <th>mean</th>\n",
       "      <td>11241.547325</td>\n",
       "      <td>-1.033155</td>\n",
       "      <td>36.911776</td>\n",
       "      <td>NaN</td>\n",
       "      <td>-1.033224</td>\n",
       "      <td>36.911758</td>\n",
       "      <td>NaN</td>\n",
       "      <td>-15.064304</td>\n",
       "      <td>-0.404014</td>\n",
       "      <td>36.305245</td>\n",
       "      <td>6.828883</td>\n",
       "    </tr>\n",
       "    <tr>\n",
       "      <th>std</th>\n",
       "      <td>20407.447419</td>\n",
       "      <td>0.433675</td>\n",
       "      <td>0.411567</td>\n",
       "      <td>NaN</td>\n",
       "      <td>0.435225</td>\n",
       "      <td>0.411621</td>\n",
       "      <td>NaN</td>\n",
       "      <td>74.698946</td>\n",
       "      <td>0.846147</td>\n",
       "      <td>0.891082</td>\n",
       "      <td>20.025799</td>\n",
       "    </tr>\n",
       "    <tr>\n",
       "      <th>min</th>\n",
       "      <td>101.510000</td>\n",
       "      <td>-3.229457</td>\n",
       "      <td>34.215324</td>\n",
       "      <td>NaN</td>\n",
       "      <td>-3.328162</td>\n",
       "      <td>34.217648</td>\n",
       "      <td>NaN</td>\n",
       "      <td>-180.000000</td>\n",
       "      <td>-1.295174</td>\n",
       "      <td>34.998313</td>\n",
       "      <td>0.000000</td>\n",
       "    </tr>\n",
       "    <tr>\n",
       "      <th>25%</th>\n",
       "      <td>1634.500000</td>\n",
       "      <td>-1.248051</td>\n",
       "      <td>36.824792</td>\n",
       "      <td>NaN</td>\n",
       "      <td>-1.249770</td>\n",
       "      <td>36.824720</td>\n",
       "      <td>NaN</td>\n",
       "      <td>-53.565599</td>\n",
       "      <td>-1.040912</td>\n",
       "      <td>35.256035</td>\n",
       "      <td>0.000000</td>\n",
       "    </tr>\n",
       "    <tr>\n",
       "      <th>50%</th>\n",
       "      <td>4962.310000</td>\n",
       "      <td>-1.126192</td>\n",
       "      <td>36.995655</td>\n",
       "      <td>NaN</td>\n",
       "      <td>-1.126177</td>\n",
       "      <td>36.993961</td>\n",
       "      <td>NaN</td>\n",
       "      <td>0.000000</td>\n",
       "      <td>-1.036796</td>\n",
       "      <td>37.051986</td>\n",
       "      <td>0.000000</td>\n",
       "    </tr>\n",
       "    <tr>\n",
       "      <th>75%</th>\n",
       "      <td>11809.925000</td>\n",
       "      <td>-1.051952</td>\n",
       "      <td>37.092146</td>\n",
       "      <td>NaN</td>\n",
       "      <td>-1.051691</td>\n",
       "      <td>37.092073</td>\n",
       "      <td>NaN</td>\n",
       "      <td>0.000000</td>\n",
       "      <td>0.521471</td>\n",
       "      <td>37.072456</td>\n",
       "      <td>0.000000</td>\n",
       "    </tr>\n",
       "    <tr>\n",
       "      <th>max</th>\n",
       "      <td>342478.600000</td>\n",
       "      <td>1.256370</td>\n",
       "      <td>40.124302</td>\n",
       "      <td>NaN</td>\n",
       "      <td>1.256327</td>\n",
       "      <td>40.126652</td>\n",
       "      <td>NaN</td>\n",
       "      <td>180.000000</td>\n",
       "      <td>1.024317</td>\n",
       "      <td>37.094406</td>\n",
       "      <td>99.000000</td>\n",
       "    </tr>\n",
       "  </tbody>\n",
       "</table>\n",
       "</div>"
      ],
      "text/plain": [
       "            distance  origin_latitude  origin_longitude  origin_odometer  \\\n",
       "count    4804.000000      4804.000000       4804.000000              0.0   \n",
       "mean    11241.547325        -1.033155         36.911776              NaN   \n",
       "std     20407.447419         0.433675          0.411567              NaN   \n",
       "min       101.510000        -3.229457         34.215324              NaN   \n",
       "25%      1634.500000        -1.248051         36.824792              NaN   \n",
       "50%      4962.310000        -1.126192         36.995655              NaN   \n",
       "75%     11809.925000        -1.051952         37.092146              NaN   \n",
       "max    342478.600000         1.256370         40.124302              NaN   \n",
       "\n",
       "       destination_latitude  destination_longitude  destination_odometer  \\\n",
       "count           4804.000000            4804.000000                   0.0   \n",
       "mean              -1.033224              36.911758                   NaN   \n",
       "std                0.435225               0.411621                   NaN   \n",
       "min               -3.328162              34.217648                   NaN   \n",
       "25%               -1.249770              36.824720                   NaN   \n",
       "50%               -1.126177              36.993961                   NaN   \n",
       "75%               -1.051691              37.092073                   NaN   \n",
       "max                1.256327              40.126652                   NaN   \n",
       "\n",
       "       point_bearing  point_latitude  point_longitude  point_original_index  \n",
       "count    6703.000000     6703.000000      6703.000000           6703.000000  \n",
       "mean      -15.064304       -0.404014        36.305245              6.828883  \n",
       "std        74.698946        0.846147         0.891082             20.025799  \n",
       "min      -180.000000       -1.295174        34.998313              0.000000  \n",
       "25%       -53.565599       -1.040912        35.256035              0.000000  \n",
       "50%         0.000000       -1.036796        37.051986              0.000000  \n",
       "75%         0.000000        0.521471        37.072456              0.000000  \n",
       "max       180.000000        1.024317        37.094406             99.000000  "
      ]
     },
     "execution_count": 9,
     "metadata": {},
     "output_type": "execute_result"
    }
   ],
   "source": [
    "trips_df.describe()"
   ]
  },
  {
   "cell_type": "code",
   "execution_count": 52,
   "metadata": {},
   "outputs": [
    {
     "data": {
      "text/plain": [
       "id                         object\n",
       "created                    object\n",
       "asset_id                   object\n",
       "distance                  float64\n",
       "origin_latitude           float64\n",
       "origin_longitude          float64\n",
       "origin_time_stamp          object\n",
       "origin_address             object\n",
       "origin_odometer           float64\n",
       "destination_latitude      float64\n",
       "destination_longitude     float64\n",
       "destination_time_stamp     object\n",
       "destination_address        object\n",
       "destination_odometer      float64\n",
       "point_bearing             float64\n",
       "point_latitude            float64\n",
       "point_longitude           float64\n",
       "point_original_index        int64\n",
       "point_place_id             object\n",
       "dtype: object"
      ]
     },
     "execution_count": 52,
     "metadata": {},
     "output_type": "execute_result"
    }
   ],
   "source": [
    "trips_df.dtypes"
   ]
  },
  {
   "cell_type": "code",
   "execution_count": 11,
   "metadata": {},
   "outputs": [
    {
     "data": {
      "text/plain": [
       "(34, 4)"
      ]
     },
     "execution_count": 11,
     "metadata": {},
     "output_type": "execute_result"
    }
   ],
   "source": [
    "assets.shape"
   ]
  },
  {
   "cell_type": "code",
   "execution_count": 10,
   "metadata": {},
   "outputs": [
    {
     "data": {
      "text/plain": [
       "id        0\n",
       "make      0\n",
       "model    13\n",
       "year     15\n",
       "dtype: int64"
      ]
     },
     "execution_count": 10,
     "metadata": {},
     "output_type": "execute_result"
    }
   ],
   "source": [
    "assets.isnull().sum()"
   ]
  },
  {
   "cell_type": "code",
   "execution_count": 12,
   "metadata": {},
   "outputs": [
    {
     "data": {
      "text/plain": [
       "id                        1899\n",
       "created                   1899\n",
       "asset_id                  1899\n",
       "distance                  1899\n",
       "origin_latitude           1899\n",
       "origin_longitude          1899\n",
       "origin_time_stamp         1899\n",
       "origin_address            1900\n",
       "origin_odometer           6703\n",
       "destination_latitude      1899\n",
       "destination_longitude     1899\n",
       "destination_time_stamp    1899\n",
       "destination_address       1900\n",
       "destination_odometer      6703\n",
       "point_bearing                0\n",
       "point_latitude               0\n",
       "point_longitude              0\n",
       "point_original_index         0\n",
       "point_place_id               0\n",
       "dtype: int64"
      ]
     },
     "execution_count": 12,
     "metadata": {},
     "output_type": "execute_result"
    }
   ],
   "source": [
    "trips_df.isnull().sum()"
   ]
  },
  {
   "cell_type": "code",
   "execution_count": 55,
   "metadata": {},
   "outputs": [],
   "source": [
    "# drop the columns whose entire column is null\n",
    "trips_df.dropna(axis=1, how='all', inplace=True)"
   ]
  },
  {
   "cell_type": "code",
   "execution_count": 56,
   "metadata": {},
   "outputs": [
    {
     "data": {
      "text/html": [
       "<div>\n",
       "<style scoped>\n",
       "    .dataframe tbody tr th:only-of-type {\n",
       "        vertical-align: middle;\n",
       "    }\n",
       "\n",
       "    .dataframe tbody tr th {\n",
       "        vertical-align: top;\n",
       "    }\n",
       "\n",
       "    .dataframe thead th {\n",
       "        text-align: right;\n",
       "    }\n",
       "</style>\n",
       "<table border=\"1\" class=\"dataframe\">\n",
       "  <thead>\n",
       "    <tr style=\"text-align: right;\">\n",
       "      <th></th>\n",
       "      <th>distance</th>\n",
       "      <th>origin_latitude</th>\n",
       "      <th>origin_longitude</th>\n",
       "      <th>destination_latitude</th>\n",
       "      <th>destination_longitude</th>\n",
       "      <th>point_bearing</th>\n",
       "      <th>point_latitude</th>\n",
       "      <th>point_longitude</th>\n",
       "      <th>point_original_index</th>\n",
       "    </tr>\n",
       "  </thead>\n",
       "  <tbody>\n",
       "    <tr>\n",
       "      <th>count</th>\n",
       "      <td>4804.000000</td>\n",
       "      <td>4804.000000</td>\n",
       "      <td>4804.000000</td>\n",
       "      <td>4804.000000</td>\n",
       "      <td>4804.000000</td>\n",
       "      <td>6703.000000</td>\n",
       "      <td>6703.000000</td>\n",
       "      <td>6703.000000</td>\n",
       "      <td>6703.000000</td>\n",
       "    </tr>\n",
       "    <tr>\n",
       "      <th>mean</th>\n",
       "      <td>11241.547325</td>\n",
       "      <td>-1.033155</td>\n",
       "      <td>36.911776</td>\n",
       "      <td>-1.033224</td>\n",
       "      <td>36.911758</td>\n",
       "      <td>-15.064304</td>\n",
       "      <td>-0.404014</td>\n",
       "      <td>36.305245</td>\n",
       "      <td>6.828883</td>\n",
       "    </tr>\n",
       "    <tr>\n",
       "      <th>std</th>\n",
       "      <td>20407.447419</td>\n",
       "      <td>0.433675</td>\n",
       "      <td>0.411567</td>\n",
       "      <td>0.435225</td>\n",
       "      <td>0.411621</td>\n",
       "      <td>74.698946</td>\n",
       "      <td>0.846147</td>\n",
       "      <td>0.891082</td>\n",
       "      <td>20.025799</td>\n",
       "    </tr>\n",
       "    <tr>\n",
       "      <th>min</th>\n",
       "      <td>101.510000</td>\n",
       "      <td>-3.229457</td>\n",
       "      <td>34.215324</td>\n",
       "      <td>-3.328162</td>\n",
       "      <td>34.217648</td>\n",
       "      <td>-180.000000</td>\n",
       "      <td>-1.295174</td>\n",
       "      <td>34.998313</td>\n",
       "      <td>0.000000</td>\n",
       "    </tr>\n",
       "    <tr>\n",
       "      <th>25%</th>\n",
       "      <td>1634.500000</td>\n",
       "      <td>-1.248051</td>\n",
       "      <td>36.824792</td>\n",
       "      <td>-1.249770</td>\n",
       "      <td>36.824720</td>\n",
       "      <td>-53.565599</td>\n",
       "      <td>-1.040912</td>\n",
       "      <td>35.256035</td>\n",
       "      <td>0.000000</td>\n",
       "    </tr>\n",
       "    <tr>\n",
       "      <th>50%</th>\n",
       "      <td>4962.310000</td>\n",
       "      <td>-1.126192</td>\n",
       "      <td>36.995655</td>\n",
       "      <td>-1.126177</td>\n",
       "      <td>36.993961</td>\n",
       "      <td>0.000000</td>\n",
       "      <td>-1.036796</td>\n",
       "      <td>37.051986</td>\n",
       "      <td>0.000000</td>\n",
       "    </tr>\n",
       "    <tr>\n",
       "      <th>75%</th>\n",
       "      <td>11809.925000</td>\n",
       "      <td>-1.051952</td>\n",
       "      <td>37.092146</td>\n",
       "      <td>-1.051691</td>\n",
       "      <td>37.092073</td>\n",
       "      <td>0.000000</td>\n",
       "      <td>0.521471</td>\n",
       "      <td>37.072456</td>\n",
       "      <td>0.000000</td>\n",
       "    </tr>\n",
       "    <tr>\n",
       "      <th>max</th>\n",
       "      <td>342478.600000</td>\n",
       "      <td>1.256370</td>\n",
       "      <td>40.124302</td>\n",
       "      <td>1.256327</td>\n",
       "      <td>40.126652</td>\n",
       "      <td>180.000000</td>\n",
       "      <td>1.024317</td>\n",
       "      <td>37.094406</td>\n",
       "      <td>99.000000</td>\n",
       "    </tr>\n",
       "  </tbody>\n",
       "</table>\n",
       "</div>"
      ],
      "text/plain": [
       "            distance  origin_latitude  origin_longitude  destination_latitude  \\\n",
       "count    4804.000000      4804.000000       4804.000000           4804.000000   \n",
       "mean    11241.547325        -1.033155         36.911776             -1.033224   \n",
       "std     20407.447419         0.433675          0.411567              0.435225   \n",
       "min       101.510000        -3.229457         34.215324             -3.328162   \n",
       "25%      1634.500000        -1.248051         36.824792             -1.249770   \n",
       "50%      4962.310000        -1.126192         36.995655             -1.126177   \n",
       "75%     11809.925000        -1.051952         37.092146             -1.051691   \n",
       "max    342478.600000         1.256370         40.124302              1.256327   \n",
       "\n",
       "       destination_longitude  point_bearing  point_latitude  point_longitude  \\\n",
       "count            4804.000000    6703.000000     6703.000000      6703.000000   \n",
       "mean               36.911758     -15.064304       -0.404014        36.305245   \n",
       "std                 0.411621      74.698946        0.846147         0.891082   \n",
       "min                34.217648    -180.000000       -1.295174        34.998313   \n",
       "25%                36.824720     -53.565599       -1.040912        35.256035   \n",
       "50%                36.993961       0.000000       -1.036796        37.051986   \n",
       "75%                37.092073       0.000000        0.521471        37.072456   \n",
       "max                40.126652     180.000000        1.024317        37.094406   \n",
       "\n",
       "       point_original_index  \n",
       "count           6703.000000  \n",
       "mean               6.828883  \n",
       "std               20.025799  \n",
       "min                0.000000  \n",
       "25%                0.000000  \n",
       "50%                0.000000  \n",
       "75%                0.000000  \n",
       "max               99.000000  "
      ]
     },
     "execution_count": 56,
     "metadata": {},
     "output_type": "execute_result"
    }
   ],
   "source": [
    "trips_df.describe()"
   ]
  },
  {
   "cell_type": "code",
   "execution_count": 57,
   "metadata": {},
   "outputs": [],
   "source": [
    "# limit the trips_df to 4804 rows\n",
    "trips_df = trips_df.iloc[:4804, :]"
   ]
  },
  {
   "cell_type": "code",
   "execution_count": 58,
   "metadata": {},
   "outputs": [
    {
     "data": {
      "text/plain": [
       "id                        0\n",
       "created                   0\n",
       "asset_id                  0\n",
       "distance                  0\n",
       "origin_latitude           0\n",
       "origin_longitude          0\n",
       "origin_time_stamp         0\n",
       "origin_address            1\n",
       "destination_latitude      0\n",
       "destination_longitude     0\n",
       "destination_time_stamp    0\n",
       "destination_address       1\n",
       "point_bearing             0\n",
       "point_latitude            0\n",
       "point_longitude           0\n",
       "point_original_index      0\n",
       "point_place_id            0\n",
       "dtype: int64"
      ]
     },
     "execution_count": 58,
     "metadata": {},
     "output_type": "execute_result"
    }
   ],
   "source": [
    "trips_df.isnull().sum()"
   ]
  },
  {
   "cell_type": "code",
   "execution_count": 59,
   "metadata": {},
   "outputs": [
    {
     "data": {
      "text/html": [
       "<div>\n",
       "<style scoped>\n",
       "    .dataframe tbody tr th:only-of-type {\n",
       "        vertical-align: middle;\n",
       "    }\n",
       "\n",
       "    .dataframe tbody tr th {\n",
       "        vertical-align: top;\n",
       "    }\n",
       "\n",
       "    .dataframe thead th {\n",
       "        text-align: right;\n",
       "    }\n",
       "</style>\n",
       "<table border=\"1\" class=\"dataframe\">\n",
       "  <thead>\n",
       "    <tr style=\"text-align: right;\">\n",
       "      <th></th>\n",
       "      <th>id</th>\n",
       "      <th>created</th>\n",
       "      <th>asset_id</th>\n",
       "      <th>distance</th>\n",
       "      <th>origin_latitude</th>\n",
       "      <th>origin_longitude</th>\n",
       "      <th>origin_time_stamp</th>\n",
       "      <th>origin_address</th>\n",
       "      <th>destination_latitude</th>\n",
       "      <th>destination_longitude</th>\n",
       "      <th>destination_time_stamp</th>\n",
       "      <th>destination_address</th>\n",
       "      <th>point_bearing</th>\n",
       "      <th>point_latitude</th>\n",
       "      <th>point_longitude</th>\n",
       "      <th>point_original_index</th>\n",
       "      <th>point_place_id</th>\n",
       "    </tr>\n",
       "  </thead>\n",
       "  <tbody>\n",
       "    <tr>\n",
       "      <th>922</th>\n",
       "      <td>v0Wgz5c</td>\n",
       "      <td>2022-11-06T01:11:56.532+00:00</td>\n",
       "      <td>QRmYjfT</td>\n",
       "      <td>862.05</td>\n",
       "      <td>-1.18568</td>\n",
       "      <td>36.744983</td>\n",
       "      <td>2022-11-06T01:11:50+00:00</td>\n",
       "      <td>NaN</td>\n",
       "      <td>-1.185388</td>\n",
       "      <td>36.748775</td>\n",
       "      <td>2022-11-06T01:16:28+00:00</td>\n",
       "      <td>NaN</td>\n",
       "      <td>0.0</td>\n",
       "      <td>-1.035254</td>\n",
       "      <td>37.075637</td>\n",
       "      <td>0</td>\n",
       "      <td>ChIJI7NjvYVOLxgRfpELFek-IkY</td>\n",
       "    </tr>\n",
       "  </tbody>\n",
       "</table>\n",
       "</div>"
      ],
      "text/plain": [
       "          id                        created asset_id  distance  \\\n",
       "922  v0Wgz5c  2022-11-06T01:11:56.532+00:00  QRmYjfT    862.05   \n",
       "\n",
       "     origin_latitude  origin_longitude          origin_time_stamp  \\\n",
       "922         -1.18568         36.744983  2022-11-06T01:11:50+00:00   \n",
       "\n",
       "    origin_address  destination_latitude  destination_longitude  \\\n",
       "922            NaN             -1.185388              36.748775   \n",
       "\n",
       "        destination_time_stamp destination_address  point_bearing  \\\n",
       "922  2022-11-06T01:16:28+00:00                 NaN            0.0   \n",
       "\n",
       "     point_latitude  point_longitude  point_original_index  \\\n",
       "922       -1.035254        37.075637                     0   \n",
       "\n",
       "                  point_place_id  \n",
       "922  ChIJI7NjvYVOLxgRfpELFek-IkY  "
      ]
     },
     "execution_count": 59,
     "metadata": {},
     "output_type": "execute_result"
    }
   ],
   "source": [
    "trips_df[trips_df['origin_address'].isnull() | trips_df['destination_address'].isnull()]"
   ]
  },
  {
   "cell_type": "code",
   "execution_count": 60,
   "metadata": {},
   "outputs": [],
   "source": [
    "trips_df.dropna(subset=['origin_address', 'destination_address'], inplace=True)"
   ]
  },
  {
   "cell_type": "code",
   "execution_count": 62,
   "metadata": {},
   "outputs": [
    {
     "data": {
      "text/plain": [
       "id                        0\n",
       "created                   0\n",
       "asset_id                  0\n",
       "distance                  0\n",
       "origin_latitude           0\n",
       "origin_longitude          0\n",
       "origin_time_stamp         0\n",
       "origin_address            0\n",
       "destination_latitude      0\n",
       "destination_longitude     0\n",
       "destination_time_stamp    0\n",
       "destination_address       0\n",
       "point_bearing             0\n",
       "point_latitude            0\n",
       "point_longitude           0\n",
       "point_original_index      0\n",
       "point_place_id            0\n",
       "dtype: int64"
      ]
     },
     "execution_count": 62,
     "metadata": {},
     "output_type": "execute_result"
    }
   ],
   "source": [
    "trips_df.isnull().sum()"
   ]
  },
  {
   "cell_type": "code",
   "execution_count": 63,
   "metadata": {},
   "outputs": [
    {
     "data": {
      "text/plain": [
       "11243.70836976889"
      ]
     },
     "execution_count": 63,
     "metadata": {},
     "output_type": "execute_result"
    }
   ],
   "source": [
    "trips_df['distance'].mean()"
   ]
  },
  {
   "cell_type": "code",
   "execution_count": 64,
   "metadata": {},
   "outputs": [
    {
     "name": "stderr",
     "output_type": "stream",
     "text": [
      "<ipython-input-64-d8343b90f6b0>:4: FutureWarning: Series.dt.weekofyear and Series.dt.week have been deprecated.  Please use Series.dt.isocalendar().week instead.\n",
      "  trips_df['created_week'] = trips_df['created'].dt.week\n"
     ]
    }
   ],
   "source": [
    "trips_df['created'] = pd.to_datetime(trips_df['created'])\n",
    "trips_df['created_day'] = trips_df['created'].dt.day\n",
    "trips_df['created_week'] = trips_df['created'].dt.week\n",
    "trips_df['created_month'] = trips_df['created'].dt.month"
   ]
  },
  {
   "cell_type": "code",
   "execution_count": 68,
   "metadata": {},
   "outputs": [
    {
     "data": {
      "text/html": [
       "<div>\n",
       "<style scoped>\n",
       "    .dataframe tbody tr th:only-of-type {\n",
       "        vertical-align: middle;\n",
       "    }\n",
       "\n",
       "    .dataframe tbody tr th {\n",
       "        vertical-align: top;\n",
       "    }\n",
       "\n",
       "    .dataframe thead th {\n",
       "        text-align: right;\n",
       "    }\n",
       "</style>\n",
       "<table border=\"1\" class=\"dataframe\">\n",
       "  <thead>\n",
       "    <tr style=\"text-align: right;\">\n",
       "      <th></th>\n",
       "      <th>id</th>\n",
       "      <th>created</th>\n",
       "      <th>asset_id</th>\n",
       "      <th>distance</th>\n",
       "      <th>origin_latitude</th>\n",
       "      <th>origin_longitude</th>\n",
       "      <th>origin_time_stamp</th>\n",
       "      <th>origin_address</th>\n",
       "      <th>destination_latitude</th>\n",
       "      <th>destination_longitude</th>\n",
       "      <th>destination_time_stamp</th>\n",
       "      <th>destination_address</th>\n",
       "      <th>point_bearing</th>\n",
       "      <th>point_latitude</th>\n",
       "      <th>point_longitude</th>\n",
       "      <th>point_original_index</th>\n",
       "      <th>point_place_id</th>\n",
       "      <th>created_day</th>\n",
       "      <th>created_week</th>\n",
       "      <th>created_month</th>\n",
       "    </tr>\n",
       "  </thead>\n",
       "  <tbody>\n",
       "    <tr>\n",
       "      <th>0</th>\n",
       "      <td>35Ldjpf</td>\n",
       "      <td>2022-03-14 17:31:51.003000+00:00</td>\n",
       "      <td>0ROajub</td>\n",
       "      <td>4321.65</td>\n",
       "      <td>-1.043220</td>\n",
       "      <td>37.067928</td>\n",
       "      <td>2022-03-14T17:31:47+00:00</td>\n",
       "      <td>Thika Garissa Highway, Total, Thika, Kenya</td>\n",
       "      <td>-1.041213</td>\n",
       "      <td>37.092602</td>\n",
       "      <td>2022-03-14T17:54:07+00:00</td>\n",
       "      <td>Kenyatta Highway, Thika, Kiambu County, Kenya</td>\n",
       "      <td>0.000000</td>\n",
       "      <td>-1.040909</td>\n",
       "      <td>37.071567</td>\n",
       "      <td>0</td>\n",
       "      <td>ChIJuy2HBJJOLxgRflFygNiz0W4</td>\n",
       "      <td>14</td>\n",
       "      <td>11</td>\n",
       "      <td>3</td>\n",
       "    </tr>\n",
       "    <tr>\n",
       "      <th>1</th>\n",
       "      <td>agWTdy5</td>\n",
       "      <td>2023-03-07 08:53:55.607000+00:00</td>\n",
       "      <td>0gMAW5w</td>\n",
       "      <td>24703.24</td>\n",
       "      <td>-1.305577</td>\n",
       "      <td>36.824627</td>\n",
       "      <td>2023-03-07T08:53:51+00:00</td>\n",
       "      <td>Nyayo Stadium, Nairobi, Kenya</td>\n",
       "      <td>-1.430601</td>\n",
       "      <td>36.687973</td>\n",
       "      <td>2023-03-07T10:13:47+00:00</td>\n",
       "      <td>Magadi Road, Kiserian, Kajiado County, Kenya</td>\n",
       "      <td>-163.431442</td>\n",
       "      <td>-1.041084</td>\n",
       "      <td>37.071515</td>\n",
       "      <td>0</td>\n",
       "      <td>ChIJuy2HBJJOLxgRflFygNiz0W4</td>\n",
       "      <td>7</td>\n",
       "      <td>10</td>\n",
       "      <td>3</td>\n",
       "    </tr>\n",
       "    <tr>\n",
       "      <th>2</th>\n",
       "      <td>mcXsPmo</td>\n",
       "      <td>2023-03-07 06:40:53.771000+00:00</td>\n",
       "      <td>0gMAW5w</td>\n",
       "      <td>30689.27</td>\n",
       "      <td>-1.430067</td>\n",
       "      <td>36.688068</td>\n",
       "      <td>2023-03-07T06:40:48+00:00</td>\n",
       "      <td>Magadi Road, Kiserian, Kajiado County, Kenya</td>\n",
       "      <td>-1.305638</td>\n",
       "      <td>36.824879</td>\n",
       "      <td>2023-03-07T08:25:04+00:00</td>\n",
       "      <td>Nyayo Stadium, Nairobi, Kenya</td>\n",
       "      <td>0.000000</td>\n",
       "      <td>-1.041084</td>\n",
       "      <td>37.071515</td>\n",
       "      <td>1</td>\n",
       "      <td>ChIJjRl4E5JOLxgR5QYZp79nAZQ</td>\n",
       "      <td>7</td>\n",
       "      <td>10</td>\n",
       "      <td>3</td>\n",
       "    </tr>\n",
       "    <tr>\n",
       "      <th>3</th>\n",
       "      <td>WRBY3Lt</td>\n",
       "      <td>2023-03-07 05:12:29.007000+00:00</td>\n",
       "      <td>0gMAW5w</td>\n",
       "      <td>24609.34</td>\n",
       "      <td>-1.305490</td>\n",
       "      <td>36.825317</td>\n",
       "      <td>2023-03-07T05:12:26+00:00</td>\n",
       "      <td>Nyayo Stadium, Nairobi, Kenya</td>\n",
       "      <td>-1.429965</td>\n",
       "      <td>36.688194</td>\n",
       "      <td>2023-03-07T06:29:53+00:00</td>\n",
       "      <td>Magadi Road, Kiserian, Kajiado County, Kenya</td>\n",
       "      <td>-72.222748</td>\n",
       "      <td>-1.040909</td>\n",
       "      <td>37.070972</td>\n",
       "      <td>0</td>\n",
       "      <td>ChIJjRl4E5JOLxgR5QYZp79nAZQ</td>\n",
       "      <td>7</td>\n",
       "      <td>10</td>\n",
       "      <td>3</td>\n",
       "    </tr>\n",
       "    <tr>\n",
       "      <th>4</th>\n",
       "      <td>1WaNBeb</td>\n",
       "      <td>2023-03-07 03:15:18.670000+00:00</td>\n",
       "      <td>0gMAW5w</td>\n",
       "      <td>28395.71</td>\n",
       "      <td>-1.397144</td>\n",
       "      <td>36.759830</td>\n",
       "      <td>2023-03-07T03:15:15+00:00</td>\n",
       "      <td>Soronik Road, Nairobi, Kenya</td>\n",
       "      <td>-1.305595</td>\n",
       "      <td>36.825199</td>\n",
       "      <td>2023-03-07T04:59:31+00:00</td>\n",
       "      <td>Gandhi Avenue, Nairobi West, Nairobi, Nairobi ...</td>\n",
       "      <td>0.000000</td>\n",
       "      <td>-1.040909</td>\n",
       "      <td>37.070972</td>\n",
       "      <td>0</td>\n",
       "      <td>ChIJx5QNLpJOLxgRzW-2tUJvBuo</td>\n",
       "      <td>7</td>\n",
       "      <td>10</td>\n",
       "      <td>3</td>\n",
       "    </tr>\n",
       "  </tbody>\n",
       "</table>\n",
       "</div>"
      ],
      "text/plain": [
       "        id                          created asset_id  distance  \\\n",
       "0  35Ldjpf 2022-03-14 17:31:51.003000+00:00  0ROajub   4321.65   \n",
       "1  agWTdy5 2023-03-07 08:53:55.607000+00:00  0gMAW5w  24703.24   \n",
       "2  mcXsPmo 2023-03-07 06:40:53.771000+00:00  0gMAW5w  30689.27   \n",
       "3  WRBY3Lt 2023-03-07 05:12:29.007000+00:00  0gMAW5w  24609.34   \n",
       "4  1WaNBeb 2023-03-07 03:15:18.670000+00:00  0gMAW5w  28395.71   \n",
       "\n",
       "   origin_latitude  origin_longitude          origin_time_stamp  \\\n",
       "0        -1.043220         37.067928  2022-03-14T17:31:47+00:00   \n",
       "1        -1.305577         36.824627  2023-03-07T08:53:51+00:00   \n",
       "2        -1.430067         36.688068  2023-03-07T06:40:48+00:00   \n",
       "3        -1.305490         36.825317  2023-03-07T05:12:26+00:00   \n",
       "4        -1.397144         36.759830  2023-03-07T03:15:15+00:00   \n",
       "\n",
       "                                 origin_address  destination_latitude  \\\n",
       "0    Thika Garissa Highway, Total, Thika, Kenya             -1.041213   \n",
       "1                 Nyayo Stadium, Nairobi, Kenya             -1.430601   \n",
       "2  Magadi Road, Kiserian, Kajiado County, Kenya             -1.305638   \n",
       "3                 Nyayo Stadium, Nairobi, Kenya             -1.429965   \n",
       "4                  Soronik Road, Nairobi, Kenya             -1.305595   \n",
       "\n",
       "   destination_longitude     destination_time_stamp  \\\n",
       "0              37.092602  2022-03-14T17:54:07+00:00   \n",
       "1              36.687973  2023-03-07T10:13:47+00:00   \n",
       "2              36.824879  2023-03-07T08:25:04+00:00   \n",
       "3              36.688194  2023-03-07T06:29:53+00:00   \n",
       "4              36.825199  2023-03-07T04:59:31+00:00   \n",
       "\n",
       "                                 destination_address  point_bearing  \\\n",
       "0      Kenyatta Highway, Thika, Kiambu County, Kenya       0.000000   \n",
       "1       Magadi Road, Kiserian, Kajiado County, Kenya    -163.431442   \n",
       "2                      Nyayo Stadium, Nairobi, Kenya       0.000000   \n",
       "3       Magadi Road, Kiserian, Kajiado County, Kenya     -72.222748   \n",
       "4  Gandhi Avenue, Nairobi West, Nairobi, Nairobi ...       0.000000   \n",
       "\n",
       "   point_latitude  point_longitude  point_original_index  \\\n",
       "0       -1.040909        37.071567                     0   \n",
       "1       -1.041084        37.071515                     0   \n",
       "2       -1.041084        37.071515                     1   \n",
       "3       -1.040909        37.070972                     0   \n",
       "4       -1.040909        37.070972                     0   \n",
       "\n",
       "                point_place_id  created_day  created_week  created_month  \n",
       "0  ChIJuy2HBJJOLxgRflFygNiz0W4           14            11              3  \n",
       "1  ChIJuy2HBJJOLxgRflFygNiz0W4            7            10              3  \n",
       "2  ChIJjRl4E5JOLxgR5QYZp79nAZQ            7            10              3  \n",
       "3  ChIJjRl4E5JOLxgR5QYZp79nAZQ            7            10              3  \n",
       "4  ChIJx5QNLpJOLxgRzW-2tUJvBuo            7            10              3  "
      ]
     },
     "execution_count": 68,
     "metadata": {},
     "output_type": "execute_result"
    }
   ],
   "source": [
    "trips_df.head()"
   ]
  },
  {
   "cell_type": "code",
   "execution_count": 65,
   "metadata": {},
   "outputs": [
    {
     "data": {
      "text/plain": [
       "created_day\n",
       "1     210\n",
       "2     201\n",
       "3     189\n",
       "4     209\n",
       "5     178\n",
       "6     203\n",
       "7     152\n",
       "8     101\n",
       "9     139\n",
       "10    137\n",
       "11    168\n",
       "12    132\n",
       "13    122\n",
       "14    127\n",
       "15    128\n",
       "16    119\n",
       "17    155\n",
       "18    132\n",
       "19    118\n",
       "20    137\n",
       "21    156\n",
       "22    151\n",
       "23    180\n",
       "24    171\n",
       "25    192\n",
       "26    179\n",
       "27    203\n",
       "28    211\n",
       "29    101\n",
       "30    129\n",
       "31     73\n",
       "Name: id, dtype: int64"
      ]
     },
     "execution_count": 65,
     "metadata": {},
     "output_type": "execute_result"
    }
   ],
   "source": [
    "trips_df.groupby('created_day')['id'].count()"
   ]
  },
  {
   "cell_type": "code",
   "execution_count": 66,
   "metadata": {},
   "outputs": [
    {
     "data": {
      "text/plain": [
       "created_day\n",
       "1     12452.639810\n",
       "2     12537.244677\n",
       "3     10486.054868\n",
       "4     11609.014928\n",
       "5     10195.788427\n",
       "6     10993.693892\n",
       "7      9424.987105\n",
       "8     10387.129406\n",
       "9     10067.539137\n",
       "10    11865.382993\n",
       "11    12721.543690\n",
       "12    10900.014167\n",
       "13     8156.797541\n",
       "14    12542.407402\n",
       "15     9036.293750\n",
       "16     9529.035882\n",
       "17     9120.308387\n",
       "18     9891.923106\n",
       "19    11143.167034\n",
       "20    12240.166277\n",
       "21    12084.120577\n",
       "22    12127.379470\n",
       "23    10238.344667\n",
       "24    10910.555322\n",
       "25    14435.754688\n",
       "26    10000.906760\n",
       "27     9929.736749\n",
       "28    13694.864123\n",
       "29    11908.901683\n",
       "30    15660.271705\n",
       "31     8578.013151\n",
       "Name: distance, dtype: float64"
      ]
     },
     "execution_count": 66,
     "metadata": {},
     "output_type": "execute_result"
    }
   ],
   "source": [
    "trips_df.groupby('created_day')['distance'].mean()"
   ]
  },
  {
   "cell_type": "code",
   "execution_count": 67,
   "metadata": {},
   "outputs": [
    {
     "data": {
      "text/plain": [
       "created_week\n",
       "1     11314.148857\n",
       "2      5040.174857\n",
       "3     10277.398500\n",
       "4     13842.073500\n",
       "5      8740.816307\n",
       "6      7984.538346\n",
       "7      9636.384235\n",
       "8      9625.121792\n",
       "9     10890.477687\n",
       "10    12596.259706\n",
       "11     4321.650000\n",
       "12     6645.122941\n",
       "13     1712.585000\n",
       "17     9102.640270\n",
       "18    10128.154479\n",
       "19    16731.929545\n",
       "20    17654.280909\n",
       "21     7760.119394\n",
       "22    10630.829167\n",
       "23    21546.111500\n",
       "24    21153.024400\n",
       "25    16391.706667\n",
       "26    29978.595000\n",
       "27    15471.029804\n",
       "28     8543.555000\n",
       "29     5796.229000\n",
       "30     4166.194000\n",
       "31    17931.975000\n",
       "32     1716.628000\n",
       "33     3728.954000\n",
       "34     8331.772353\n",
       "35     4842.061563\n",
       "36     8606.825714\n",
       "37     3658.766383\n",
       "38     7815.842833\n",
       "39    18382.953380\n",
       "40     7648.293947\n",
       "41    14536.382925\n",
       "42    13435.137679\n",
       "43     8315.178161\n",
       "44    10738.630893\n",
       "45     6661.445648\n",
       "46     8716.652707\n",
       "47    15826.582831\n",
       "48    15858.567615\n",
       "49    15139.448235\n",
       "50    11032.953871\n",
       "51    17455.789180\n",
       "52     9614.624324\n",
       "Name: distance, dtype: float64"
      ]
     },
     "execution_count": 67,
     "metadata": {},
     "output_type": "execute_result"
    }
   ],
   "source": [
    "trips_df.groupby('created_week')['distance'].mean()"
   ]
  },
  {
   "cell_type": "code",
   "execution_count": 69,
   "metadata": {},
   "outputs": [
    {
     "data": {
      "text/plain": [
       "created_month\n",
       "1     10762.353975\n",
       "2      9002.992650\n",
       "3     11522.344992\n",
       "4      7660.103898\n",
       "5     12837.588539\n",
       "6     21226.067136\n",
       "7     16893.984600\n",
       "8      6251.707179\n",
       "9      9522.650697\n",
       "10    11883.782965\n",
       "11    11602.082706\n",
       "12    13755.635497\n",
       "Name: distance, dtype: float64"
      ]
     },
     "execution_count": 69,
     "metadata": {},
     "output_type": "execute_result"
    }
   ],
   "source": [
    "trips_df.groupby('created_month')['distance'].mean()"
   ]
  },
  {
   "cell_type": "code",
   "execution_count": 71,
   "metadata": {},
   "outputs": [
    {
     "data": {
      "image/png": "[encoded data removed]",
      "text/plain": [
       "<Figure size 720x360 with 1 Axes>"
      ]
     },
     "metadata": {
      "needs_background": "light"
     },
     "output_type": "display_data"
    }
   ],
   "source": [
    "import matplotlib.pyplot as plt\n",
    "%matplotlib inline\n",
    "plt.figure(figsize=(10, 5))\n",
    "plt.plot(trips_df.groupby('created_day')['distance'].mean(), label='Daily')\n",
    "plt.legend()\n",
    "plt.xlabel('Day')\n",
    "plt.ylabel('Average Distance')\n",
    "plt.title('Average Distance Travelled by the Vehicles')\n",
    "plt.show()"
   ]
  },
  {
   "cell_type": "code",
   "execution_count": 74,
   "metadata": {},
   "outputs": [
    {
     "data": {
      "image/png": "[encoded data removed]",
      "text/plain": [
       "<Figure size 720x360 with 1 Axes>"
      ]
     },
     "metadata": {
      "needs_background": "light"
     },
     "output_type": "display_data"
    }
   ],
   "source": [
    "plt.figure(figsize=(10, 5))\n",
    "plt.plot(trips_df.groupby('created_week')['distance'].mean(), label='Weekly')\n",
    "plt.legend()\n",
    "plt.xlabel('Week')\n",
    "plt.ylabel('Average Distance')\n",
    "plt.title('Average Distance Travelled by the Vehicles')\n",
    "plt.show()"
   ]
  },
  {
   "cell_type": "code",
   "execution_count": 75,
   "metadata": {},
   "outputs": [
    {
     "data": {
      "image/png": "[encoded data removed]",
      "text/plain": [
       "<Figure size 720x360 with 1 Axes>"
      ]
     },
     "metadata": {
      "needs_background": "light"
     },
     "output_type": "display_data"
    }
   ],
   "source": [
    "plt.figure(figsize=(10, 5))\n",
    "plt.plot(trips_df.groupby('created_month')['distance'].mean(), label='Monthly')\n",
    "plt.legend()\n",
    "plt.xlabel('Month')\n",
    "plt.ylabel('Average Distance')\n",
    "plt.title('Average Distance Travelled by the Vehicles')\n",
    "plt.show()"
   ]
  },
  {
   "cell_type": "code",
   "execution_count": 78,
   "metadata": {},
   "outputs": [
    {
     "data": {
      "text/plain": [
       "Thika, Kiambu County, Kenya                                             466\n",
       "Ruiru, Kiambu County, Kenya                                             181\n",
       "Kiandutu Slums, Thika, Kiambu County, Kenya                             175\n",
       "A3, Thika, Kiambu County, Kenya                                         158\n",
       "Super Highway, Ruiru, Kenya                                             123\n",
       "Kianyaga, Kirinyaga County, Kenya                                       116\n",
       "Eastern By Pass, Ruiru, Kiambu County, Kenya                            109\n",
       "Makongeni, Thika, Kiambu County, Kenya                                  106\n",
       "Kiganjo - British American Tobacco Road, Thika, Kiambu County, Kenya     88\n",
       "Mitero Road, Ndathi, Nyeri County, Kenya                                 78\n",
       "Name: destination_address, dtype: int64"
      ]
     },
     "execution_count": 78,
     "metadata": {},
     "output_type": "execute_result"
    }
   ],
   "source": [
    "trips_df['destination_address'].value_counts().head(10)"
   ]
  },
  {
   "cell_type": "code",
   "execution_count": 79,
   "metadata": {},
   "outputs": [
    {
     "data": {
      "text/plain": [
       "id       created                           asset_id  distance  origin_latitude  origin_longitude  origin_time_stamp          origin_address                                                        destination_latitude  destination_longitude  destination_time_stamp     destination_address          point_bearing  point_latitude  point_longitude  point_original_index  point_place_id               created_day  created_week  created_month\n",
       "00u06no  2023-02-28 14:37:23.549000+00:00  3XBsRFw   14689.55  -1.041613        37.066196         2023-02-28T14:37:20+00:00  A3, Thika, Kiambu County, Kenya                                       -1.035346             37.048599              2023-02-28T16:30:40+00:00  Thika, Kiambu County, Kenya  -46.558933      0.584230       35.216301        0                     ChIJp4RwjH8HgRcRdVasIVNh5WI  28           9             2                1\n",
       "hQFSnFE  2022-12-31 17:50:14.072000+00:00  86sWwU3   1879.70   -1.062752        37.118866         2022-12-31T17:50:12+00:00  Thika, Kiambu County, Kenya                                           -1.071626             37.125107              2022-12-31T18:02:04+00:00  Thika, Kiambu County, Kenya  -28.653536      0.445230       35.302733        0                     ChIJb-Ia2p_-gBcRiYe_FIZwJTY  31           52            12               1\n",
       "j1AZ0rC  2022-09-17 15:26:41.500000+00:00  LxNbJoh   3547.04   -1.071469        37.124744         2022-09-17T15:26:34+00:00  Thika, Kiambu County, Kenya                                           -1.066765             37.125114              2022-09-17T15:46:57+00:00  Thika, Kiambu County, Kenya   16.444095     -1.040293       37.068869        0                     ChIJ4Wrq2pNOLxgR36qSg_7gvZk  17           37            9                1\n",
       "iru5yhk  2022-11-23 13:36:56.835000+00:00  CwMnt8w   57855.72  -1.070679        37.091316         2022-11-23T13:36:51+00:00  Kiganjo - British American Tobacco Road, Thika, Kiambu County, Kenya  -1.077681             37.090454              2022-11-23T17:16:47+00:00  Thika, Kiambu County, Kenya   0.000000      -1.038110       37.071757        0                     ChIJgST50pFOLxgRE-YQnDkwX8M  23           47            11               1\n",
       "ilKtfE6  2023-01-28 02:16:39.493000+00:00  XffJI53   5812.29   -1.068906        37.190678         2023-01-28T02:16:37+00:00  Thika, Kiambu County, Kenya                                           -1.068702             37.190704              2023-01-28T02:34:59+00:00  Thika, Kiambu County, Kenya  -44.461806      0.189360       35.448949        0                     ChIJK_E5DtuTgBcRrPyeVuW7uEw  28           4             1                1\n",
       "                                                                                                                                                                                                                                                                                                                                                                                                                                                      ..\n",
       "MUjyvyp  2022-10-31 09:04:24.099000+00:00  LxNbJoh   3163.19   -1.068516        37.125488         2022-10-31T09:04:22+00:00  Thika, Kiambu County, Kenya                                           -1.071255             37.124924              2022-10-31T09:23:14+00:00  Thika, Kiambu County, Kenya  -2.520415      -1.037377       37.072330        0                     ChIJRwvi3o9OLxgRRWE3hMQ1cck  31           44            10               1\n",
       "MU8IvuM  2022-09-25 17:00:17.051000+00:00  LxNbJoh   1141.49   -1.066786        37.125240         2022-09-25T17:00:12+00:00  Thika, Kiambu County, Kenya                                           -1.066806             37.125111              2022-09-25T17:27:18+00:00  Thika, Kiambu County, Kenya  -170.317261    -1.041530       37.068493        0                     ChIJhc12vJNOLxgRnpDoCfynLZc  25           38            9                1\n",
       "MKeGHLC  2023-02-05 09:16:41.018000+00:00  86sWwU3   1936.80   -1.071894        37.124992         2023-02-05T09:16:37+00:00  Thika, Kiambu County, Kenya                                           -1.071691             37.125198              2023-02-05T09:40:20+00:00  Thika, Kiambu County, Kenya   0.000000       0.433991       35.308828        0                     ChIJrzUCcQT8gBcR78xLrEAqXwM  5            5             2                1\n",
       "MDm31XG  2023-02-08 16:44:14.743000+00:00  XffJI53   215.03    -1.063177        37.178471         2023-02-08T16:44:07+00:00  Thika, Kiambu County, Kenya                                           -1.064576             37.178444              2023-02-08T16:56:02+00:00  Thika, Kiambu County, Kenya  -31.663020      0.107406       35.472615        0                     ChIJJyCY5yGagBcRNhqoSCw0uGc  8            6             2                1\n",
       "zxTJAcD  2022-09-02 12:24:38.689000+00:00  LxNbJoh   23630.54  -0.943141        36.975376         2022-09-02T12:24:34+00:00  Thika-Gatura Road, Makwa, Muranga County, Kenya                       -1.057521             37.080181              2022-09-02T13:11:36+00:00  Thika, Kiambu County, Kenya  -88.912066     -1.026910       37.066761        0                     ChIJfToaMCdMLxgRt2gFw3X2pNU  2            35            9                1\n",
       "Length: 466, dtype: int64"
      ]
     },
     "execution_count": 79,
     "metadata": {},
     "output_type": "execute_result"
    }
   ],
   "source": [
    "# How frequently do the vehicles travel to the common origin address for the trips\n",
    "trips_df[trips_df['destination_address'] == 'Thika, Kiambu County, Kenya'].value_counts()"
   ]
  },
  {
   "cell_type": "code",
   "execution_count": 84,
   "metadata": {},
   "outputs": [
    {
     "data": {
      "image/png": "[encoded data removed]",
      "text/plain": [
       "<Figure size 720x360 with 1 Axes>"
      ]
     },
     "metadata": {
      "needs_background": "light"
     },
     "output_type": "display_data"
    }
   ],
   "source": [
    "# Visualization to represent the most common destination address for the trips\n",
    "plt.figure(figsize=(10, 5))\n",
    "trips_df['destination_address'].value_counts().head(10).plot(kind='bar')\n",
    "plt.xlabel('Destination Address')\n",
    "# plt.xticks(rotation=30)\n",
    "plt.ylabel('Frequency')\n",
    "plt.title('Most Common Destination Address for the Trips')\n",
    "plt.show()"
   ]
  },
  {
   "cell_type": "code",
   "execution_count": 93,
   "metadata": {},
   "outputs": [],
   "source": [
    "trips_df['origin_time_stamp'] = pd.to_datetime(trips_df['origin_time_stamp'])\n",
    "trips_df['destination_time_stamp'] = pd.to_datetime(trips_df['destination_time_stamp'])"
   ]
  },
  {
   "cell_type": "code",
   "execution_count": 96,
   "metadata": {},
   "outputs": [],
   "source": [
    "# create a column named average_speed to represent the average speed of the vehicles during the trips\n",
    "trips_df['duration_seconds'] = (trips_df['destination_time_stamp'] - trips_df['origin_time_stamp']).dt.total_seconds()\n",
    "trips_df['average_speed'] = trips_df['distance'] /trips_df['duration_seconds']"
   ]
  },
  {
   "cell_type": "code",
   "execution_count": 97,
   "metadata": {},
   "outputs": [
    {
     "data": {
      "text/html": [
       "<div>\n",
       "<style scoped>\n",
       "    .dataframe tbody tr th:only-of-type {\n",
       "        vertical-align: middle;\n",
       "    }\n",
       "\n",
       "    .dataframe tbody tr th {\n",
       "        vertical-align: top;\n",
       "    }\n",
       "\n",
       "    .dataframe thead th {\n",
       "        text-align: right;\n",
       "    }\n",
       "</style>\n",
       "<table border=\"1\" class=\"dataframe\">\n",
       "  <thead>\n",
       "    <tr style=\"text-align: right;\">\n",
       "      <th></th>\n",
       "      <th>id</th>\n",
       "      <th>created</th>\n",
       "      <th>asset_id</th>\n",
       "      <th>distance</th>\n",
       "      <th>origin_latitude</th>\n",
       "      <th>origin_longitude</th>\n",
       "      <th>origin_time_stamp</th>\n",
       "      <th>origin_address</th>\n",
       "      <th>destination_latitude</th>\n",
       "      <th>destination_longitude</th>\n",
       "      <th>...</th>\n",
       "      <th>point_latitude</th>\n",
       "      <th>point_longitude</th>\n",
       "      <th>point_original_index</th>\n",
       "      <th>point_place_id</th>\n",
       "      <th>created_day</th>\n",
       "      <th>created_week</th>\n",
       "      <th>created_month</th>\n",
       "      <th>duration</th>\n",
       "      <th>duration_seconds</th>\n",
       "      <th>average_speed</th>\n",
       "    </tr>\n",
       "  </thead>\n",
       "  <tbody>\n",
       "    <tr>\n",
       "      <th>0</th>\n",
       "      <td>35Ldjpf</td>\n",
       "      <td>2022-03-14 17:31:51.003000+00:00</td>\n",
       "      <td>0ROajub</td>\n",
       "      <td>4321.65</td>\n",
       "      <td>-1.043220</td>\n",
       "      <td>37.067928</td>\n",
       "      <td>2023-03-19 17:31:47</td>\n",
       "      <td>Thika Garissa Highway, Total, Thika, Kenya</td>\n",
       "      <td>-1.041213</td>\n",
       "      <td>37.092602</td>\n",
       "      <td>...</td>\n",
       "      <td>-1.040909</td>\n",
       "      <td>37.071567</td>\n",
       "      <td>0</td>\n",
       "      <td>ChIJuy2HBJJOLxgRflFygNiz0W4</td>\n",
       "      <td>14</td>\n",
       "      <td>11</td>\n",
       "      <td>3</td>\n",
       "      <td>0 days 00:22:20</td>\n",
       "      <td>1340.0</td>\n",
       "      <td>3.225112</td>\n",
       "    </tr>\n",
       "    <tr>\n",
       "      <th>1</th>\n",
       "      <td>agWTdy5</td>\n",
       "      <td>2023-03-07 08:53:55.607000+00:00</td>\n",
       "      <td>0gMAW5w</td>\n",
       "      <td>24703.24</td>\n",
       "      <td>-1.305577</td>\n",
       "      <td>36.824627</td>\n",
       "      <td>2023-03-19 08:53:51</td>\n",
       "      <td>Nyayo Stadium, Nairobi, Kenya</td>\n",
       "      <td>-1.430601</td>\n",
       "      <td>36.687973</td>\n",
       "      <td>...</td>\n",
       "      <td>-1.041084</td>\n",
       "      <td>37.071515</td>\n",
       "      <td>0</td>\n",
       "      <td>ChIJuy2HBJJOLxgRflFygNiz0W4</td>\n",
       "      <td>7</td>\n",
       "      <td>10</td>\n",
       "      <td>3</td>\n",
       "      <td>0 days 01:19:56</td>\n",
       "      <td>4796.0</td>\n",
       "      <td>5.150801</td>\n",
       "    </tr>\n",
       "    <tr>\n",
       "      <th>2</th>\n",
       "      <td>mcXsPmo</td>\n",
       "      <td>2023-03-07 06:40:53.771000+00:00</td>\n",
       "      <td>0gMAW5w</td>\n",
       "      <td>30689.27</td>\n",
       "      <td>-1.430067</td>\n",
       "      <td>36.688068</td>\n",
       "      <td>2023-03-19 06:40:48</td>\n",
       "      <td>Magadi Road, Kiserian, Kajiado County, Kenya</td>\n",
       "      <td>-1.305638</td>\n",
       "      <td>36.824879</td>\n",
       "      <td>...</td>\n",
       "      <td>-1.041084</td>\n",
       "      <td>37.071515</td>\n",
       "      <td>1</td>\n",
       "      <td>ChIJjRl4E5JOLxgR5QYZp79nAZQ</td>\n",
       "      <td>7</td>\n",
       "      <td>10</td>\n",
       "      <td>3</td>\n",
       "      <td>0 days 01:44:16</td>\n",
       "      <td>6256.0</td>\n",
       "      <td>4.905574</td>\n",
       "    </tr>\n",
       "    <tr>\n",
       "      <th>3</th>\n",
       "      <td>WRBY3Lt</td>\n",
       "      <td>2023-03-07 05:12:29.007000+00:00</td>\n",
       "      <td>0gMAW5w</td>\n",
       "      <td>24609.34</td>\n",
       "      <td>-1.305490</td>\n",
       "      <td>36.825317</td>\n",
       "      <td>2023-03-19 05:12:26</td>\n",
       "      <td>Nyayo Stadium, Nairobi, Kenya</td>\n",
       "      <td>-1.429965</td>\n",
       "      <td>36.688194</td>\n",
       "      <td>...</td>\n",
       "      <td>-1.040909</td>\n",
       "      <td>37.070972</td>\n",
       "      <td>0</td>\n",
       "      <td>ChIJjRl4E5JOLxgR5QYZp79nAZQ</td>\n",
       "      <td>7</td>\n",
       "      <td>10</td>\n",
       "      <td>3</td>\n",
       "      <td>0 days 01:17:27</td>\n",
       "      <td>4647.0</td>\n",
       "      <td>5.295748</td>\n",
       "    </tr>\n",
       "    <tr>\n",
       "      <th>4</th>\n",
       "      <td>1WaNBeb</td>\n",
       "      <td>2023-03-07 03:15:18.670000+00:00</td>\n",
       "      <td>0gMAW5w</td>\n",
       "      <td>28395.71</td>\n",
       "      <td>-1.397144</td>\n",
       "      <td>36.759830</td>\n",
       "      <td>2023-03-19 03:15:15</td>\n",
       "      <td>Soronik Road, Nairobi, Kenya</td>\n",
       "      <td>-1.305595</td>\n",
       "      <td>36.825199</td>\n",
       "      <td>...</td>\n",
       "      <td>-1.040909</td>\n",
       "      <td>37.070972</td>\n",
       "      <td>0</td>\n",
       "      <td>ChIJx5QNLpJOLxgRzW-2tUJvBuo</td>\n",
       "      <td>7</td>\n",
       "      <td>10</td>\n",
       "      <td>3</td>\n",
       "      <td>0 days 01:44:16</td>\n",
       "      <td>6256.0</td>\n",
       "      <td>4.538956</td>\n",
       "    </tr>\n",
       "  </tbody>\n",
       "</table>\n",
       "<p>5 rows × 23 columns</p>\n",
       "</div>"
      ],
      "text/plain": [
       "        id                          created asset_id  distance  \\\n",
       "0  35Ldjpf 2022-03-14 17:31:51.003000+00:00  0ROajub   4321.65   \n",
       "1  agWTdy5 2023-03-07 08:53:55.607000+00:00  0gMAW5w  24703.24   \n",
       "2  mcXsPmo 2023-03-07 06:40:53.771000+00:00  0gMAW5w  30689.27   \n",
       "3  WRBY3Lt 2023-03-07 05:12:29.007000+00:00  0gMAW5w  24609.34   \n",
       "4  1WaNBeb 2023-03-07 03:15:18.670000+00:00  0gMAW5w  28395.71   \n",
       "\n",
       "   origin_latitude  origin_longitude   origin_time_stamp  \\\n",
       "0        -1.043220         37.067928 2023-03-19 17:31:47   \n",
       "1        -1.305577         36.824627 2023-03-19 08:53:51   \n",
       "2        -1.430067         36.688068 2023-03-19 06:40:48   \n",
       "3        -1.305490         36.825317 2023-03-19 05:12:26   \n",
       "4        -1.397144         36.759830 2023-03-19 03:15:15   \n",
       "\n",
       "                                 origin_address  destination_latitude  \\\n",
       "0    Thika Garissa Highway, Total, Thika, Kenya             -1.041213   \n",
       "1                 Nyayo Stadium, Nairobi, Kenya             -1.430601   \n",
       "2  Magadi Road, Kiserian, Kajiado County, Kenya             -1.305638   \n",
       "3                 Nyayo Stadium, Nairobi, Kenya             -1.429965   \n",
       "4                  Soronik Road, Nairobi, Kenya             -1.305595   \n",
       "\n",
       "   destination_longitude  ... point_latitude point_longitude  \\\n",
       "0              37.092602  ...      -1.040909       37.071567   \n",
       "1              36.687973  ...      -1.041084       37.071515   \n",
       "2              36.824879  ...      -1.041084       37.071515   \n",
       "3              36.688194  ...      -1.040909       37.070972   \n",
       "4              36.825199  ...      -1.040909       37.070972   \n",
       "\n",
       "   point_original_index               point_place_id  created_day  \\\n",
       "0                     0  ChIJuy2HBJJOLxgRflFygNiz0W4           14   \n",
       "1                     0  ChIJuy2HBJJOLxgRflFygNiz0W4            7   \n",
       "2                     1  ChIJjRl4E5JOLxgR5QYZp79nAZQ            7   \n",
       "3                     0  ChIJjRl4E5JOLxgR5QYZp79nAZQ            7   \n",
       "4                     0  ChIJx5QNLpJOLxgRzW-2tUJvBuo            7   \n",
       "\n",
       "   created_week created_month        duration  duration_seconds  average_speed  \n",
       "0            11             3 0 days 00:22:20            1340.0       3.225112  \n",
       "1            10             3 0 days 01:19:56            4796.0       5.150801  \n",
       "2            10             3 0 days 01:44:16            6256.0       4.905574  \n",
       "3            10             3 0 days 01:17:27            4647.0       5.295748  \n",
       "4            10             3 0 days 01:44:16            6256.0       4.538956  \n",
       "\n",
       "[5 rows x 23 columns]"
      ]
     },
     "execution_count": 97,
     "metadata": {},
     "output_type": "execute_result"
    }
   ],
   "source": [
    "trips_df.head()"
   ]
  },
  {
   "cell_type": "code",
   "execution_count": 98,
   "metadata": {},
   "outputs": [
    {
     "data": {
      "image/png": "[encoded data removed]",
      "text/plain": [
       "<Figure size 720x360 with 1 Axes>"
      ]
     },
     "metadata": {
      "needs_background": "light"
     },
     "output_type": "display_data"
    }
   ],
   "source": [
    "# Identify any trends in the average speed of the vehicles during the trips over time (day, week, month)\n",
    "plt.figure(figsize=(10, 5))\n",
    "plt.plot(trips_df.groupby('created_day')['average_speed'].mean(), label='Daily')\n",
    "plt.legend()\n",
    "plt.xlabel('Day')\n",
    "plt.ylabel('Average Speed')\n",
    "plt.title('Average Speed of the Vehicles during the Trips')\n",
    "plt.show()"
   ]
  },
  {
   "cell_type": "code",
   "execution_count": 99,
   "metadata": {},
   "outputs": [],
   "source": [
    "# save the trips_df to csv file\n",
    "trips_df.to_csv('Data/trips_df_refined.csv', index=False)"
   ]
  },
  {
   "cell_type": "code",
   "execution_count": null,
   "metadata": {},
   "outputs": [],
   "source": []
  }
 ],
 "metadata": {
  "kernelspec": {
   "display_name": "env",
   "language": "python",
   "name": "env"
  },
  "language_info": {
   "codemirror_mode": {
    "name": "ipython",
    "version": 3
   },
   "file_extension": ".py",
   "mimetype": "text/x-python",
   "name": "python",
   "nbconvert_exporter": "python",
   "pygments_lexer": "ipython3",
   "version": "3.8.8"
  },
  "orig_nbformat": 4
 },
 "nbformat": 4,
 "nbformat_minor": 2
}
